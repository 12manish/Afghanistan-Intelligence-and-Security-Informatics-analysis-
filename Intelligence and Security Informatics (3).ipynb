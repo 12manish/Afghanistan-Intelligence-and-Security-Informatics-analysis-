{
 "cells": [
  {
   "cell_type": "markdown",
   "metadata": {},
   "source": [
    "## Our Mission ##\n",
    "\n",
    "Intelligence and Security Informatics is one of the major applications of Machine Learning in the interwebs today. Pretty much all of  have Intelligence and Security Informatics systems built in and automatically classify such mail as 'Junk Mail'. \n",
    "\n",
    "In this mission we will be using the Naive Bayes algorithm to create a model that can classify [dataset](https://archive.ics.uci.edu/ml/datasets/SMS+Spam+Collection) SMS messages as spam or not spam, based on the training we give to the model. It is important to have some level of intuition as to what a spammy text message might look like. Usually they have words like 'free', 'win', 'winner', 'cash', 'prize' and the like in them as these texts are designed to catch your eye and in some sense tempt you to open them. Also, spam messages tend to have words written in all capitals and also tend to use a lot of exclamation marks. To the recipient, it is usually pretty straightforward to identify a spam text and our objective here is to train a model to do that for us!\n",
    "\n",
    "Being able to identify spam messages is a binary classification problem as messages are classified as either 'Spam' or 'Not Spam' and nothing else. Also, this is a supervised learning problem, as we will be feeding a labelled dataset into the model, that it can learn from, to make future predictions. "
   ]
  },
  {
   "cell_type": "markdown",
   "metadata": {},
   "source": [
    "### Step 0: Introduction to the Naive Bayes Theorem ###\n",
    "\n",
    "Bayes theorem is one of the earliest probabilistic inference algorithms developed by Reverend Bayes (which he used to try and infer the existence of God no less) and still performs extremely well for certain use cases. \n",
    "\n",
    "It's best to understand this theorem using an example. Let's say you are a member of the Secret Service and you have been deployed to protect the Democratic presidential nominee during one of his/her campaign speeches. Being a public event that is open to all, your job is not easy and you have to be on the constant lookout for threats. So one place to start is to put a certain threat-factor for each person. So based on the features of an individual, like the age, sex, and other smaller factors like is the person carrying a bag?, does the person look nervous? etc. you can make a judgement call as to if that person is viable threat. \n",
    "\n",
    "If an individual ticks all the boxes up to a level where it crosses a threshold of doubt in your mind, you can take action and remove that person from the vicinity. The Bayes theorem works in the same way as we are computing the probability of an event(a person being a threat) based on the probabilities of certain related events(age, sex, presence of bag or not, nervousness etc. of the person). \n",
    "\n",
    "One thing to consider is the independence of these features amongst each other. For example if a child looks nervous at the event then the likelihood of that person being a threat is not as much as say if it was a grown man who was nervous. To break this down a bit further, here there are two features we are considering, age AND nervousness. Say we look at these features individually, we could design a model that flags ALL persons that are nervous as potential threats. However, it is likely that we will have a lot of false positives as there is a strong chance that minors present at the event will be nervous. Hence by considering the age of a person along with the 'nervousness' feature we would definitely get a more accurate result as to who are potential threats and who aren't. \n",
    "\n",
    "This is the 'Naive' bit of the theorem where it considers each feature to be independent of each other which may not always be the case and hence that can affect the final judgement.\n",
    "\n",
    "In short, the Bayes theorem calculates the probability of a certain event happening(in our case, a message being  spam) based on the joint probabilistic distributions of certain other events(in our case, a message being classified as spam). We will dive into the workings of the Bayes theorem later in the mission, but first, let us understand the data we are going to work with."
   ]
  },
  {
   "cell_type": "markdown",
   "metadata": {},
   "source": [
    "### Step 1.1: Understanding our dataset ### \n",
    "\n",
    "\n",
    "We will be using a [dataset](https://archive.ics.uci.edu/ml/datasets/SMS+Spam+Collection) from the UCI Machine Learning repository which has a very good collection of datasets for experimental research purposes. The direct data link is [here](https://archive.ics.uci.edu/ml/machine-learning-databases/00228/).\n",
    "\n",
    "\n",
    " ** Here's a preview of the data: ** \n",
    "\n",
    "<img src=\"images/dqnb.png\" height=\"1242\" width=\"1242\">\n",
    "\n",
    "The columns in the data set are currently not named and as you can see, there are 2 columns. \n",
    "\n",
    "The first column takes two values, 'ham' which signifies that the message is not spam, and 'spam' which signifies that the message is spam. \n",
    "\n",
    "The second column is the text content of the SMS message that is being classified."
   ]
  },
  {
   "cell_type": "markdown",
   "metadata": {},
   "source": [
    ">** Instructions: **\n",
    "* Import the dataset into a pandas dataframe using the read_table method. Because this is a tab separated dataset we will be using '\\t' as the value for the 'sep' argument which specifies this format. \n",
    "* Also, rename the column names by specifying a list ['label, 'sms_message'] to the 'names' argument of read_table().\n",
    "* Print the first five values of the dataframe with the new column names."
   ]
  },
  {
   "cell_type": "code",
   "execution_count": 1,
   "metadata": {},
   "outputs": [
    {
     "name": "stderr",
     "output_type": "stream",
     "text": [
      "b'Skipping line 38554: expected 12 fields, saw 16\\nSkipping line 53649: expected 12 fields, saw 17\\nSkipping line 54548: expected 12 fields, saw 20\\n'\n"
     ]
    },
    {
     "data": {
      "text/html": [
       "<div>\n",
       "<style scoped>\n",
       "    .dataframe tbody tr th:only-of-type {\n",
       "        vertical-align: middle;\n",
       "    }\n",
       "\n",
       "    .dataframe tbody tr th {\n",
       "        vertical-align: top;\n",
       "    }\n",
       "\n",
       "    .dataframe thead th {\n",
       "        text-align: right;\n",
       "    }\n",
       "</style>\n",
       "<table border=\"1\" class=\"dataframe\">\n",
       "  <thead>\n",
       "    <tr style=\"text-align: right;\">\n",
       "      <th></th>\n",
       "      <th>MessageID</th>\n",
       "      <th>ThreadID</th>\n",
       "      <th>ThreadName</th>\n",
       "      <th>Date_Time</th>\n",
       "      <th>MemberID</th>\n",
       "      <th>MemberName</th>\n",
       "      <th>Message</th>\n",
       "      <th>P_Year</th>\n",
       "      <th>P_Month</th>\n",
       "      <th>P_Day</th>\n",
       "      <th>P_Date</th>\n",
       "      <th>ThreadFirstMessageID</th>\n",
       "    </tr>\n",
       "  </thead>\n",
       "  <tbody>\n",
       "    <tr>\n",
       "      <th>0</th>\n",
       "      <td>1000015</td>\n",
       "      <td>5536</td>\n",
       "      <td>Love Animals? Like George Clooney?Are hungry?</td>\n",
       "      <td>2009-03-14 17:32:00</td>\n",
       "      <td>339</td>\n",
       "      <td>Paradox\\t\\t\\t\\t\\t\\t\\t\\t\\t\\t\\t</td>\n",
       "      <td>I don't like celebrity news but this needed to...</td>\n",
       "      <td>2009</td>\n",
       "      <td>3</td>\n",
       "      <td>14</td>\n",
       "      <td>2009-03-14 17:32:00.000</td>\n",
       "      <td>1000015</td>\n",
       "    </tr>\n",
       "    <tr>\n",
       "      <th>1</th>\n",
       "      <td>1000038</td>\n",
       "      <td>5536</td>\n",
       "      <td>Love Animals? Like George Clooney?Are hungry?</td>\n",
       "      <td>2009-03-14 18:08:00</td>\n",
       "      <td>240</td>\n",
       "      <td>Filament\\t\\t\\t\\t\\t\\t\\t\\t\\t\\t\\t</td>\n",
       "      <td>Ew! \"Have courage for the great sorrows of lif...</td>\n",
       "      <td>2009</td>\n",
       "      <td>3</td>\n",
       "      <td>14</td>\n",
       "      <td>2009-03-14 18:08:00.000</td>\n",
       "      <td>1000015</td>\n",
       "    </tr>\n",
       "    <tr>\n",
       "      <th>2</th>\n",
       "      <td>1000069</td>\n",
       "      <td>5536</td>\n",
       "      <td>Love Animals? Like George Clooney?Are hungry?</td>\n",
       "      <td>2009-03-14 19:15:00</td>\n",
       "      <td>988</td>\n",
       "      <td>~*~JiLk@Y~*~\\t\\t\\t\\t\\t\\t\\t\\t\\t\\t\\t</td>\n",
       "      <td>what? I am a traveler seeking the truth, a hum...</td>\n",
       "      <td>2009</td>\n",
       "      <td>3</td>\n",
       "      <td>14</td>\n",
       "      <td>2009-03-14 19:15:00.000</td>\n",
       "      <td>1000015</td>\n",
       "    </tr>\n",
       "    <tr>\n",
       "      <th>3</th>\n",
       "      <td>1000099</td>\n",
       "      <td>5536</td>\n",
       "      <td>Love Animals? Like George Clooney?Are hungry?</td>\n",
       "      <td>2009-03-14 22:15:00</td>\n",
       "      <td>339</td>\n",
       "      <td>Paradox\\t\\t\\t\\t\\t\\t\\t\\t\\t\\t\\t</td>\n",
       "      <td>Well it is as good a time as any to throw the ...</td>\n",
       "      <td>2009</td>\n",
       "      <td>3</td>\n",
       "      <td>14</td>\n",
       "      <td>2009-03-14 22:15:00.000</td>\n",
       "      <td>1000015</td>\n",
       "    </tr>\n",
       "    <tr>\n",
       "      <th>4</th>\n",
       "      <td>1000132</td>\n",
       "      <td>5536</td>\n",
       "      <td>Love Animals? Like George Clooney?Are hungry?</td>\n",
       "      <td>2009-03-14 22:38:00</td>\n",
       "      <td>240</td>\n",
       "      <td>Filament\\t\\t\\t\\t\\t\\t\\t\\t\\t\\t\\t</td>\n",
       "      <td>Ew X infinity. \"Have courage for the great sor...</td>\n",
       "      <td>2009</td>\n",
       "      <td>3</td>\n",
       "      <td>14</td>\n",
       "      <td>2009-03-14 22:38:00.000</td>\n",
       "      <td>1000015</td>\n",
       "    </tr>\n",
       "  </tbody>\n",
       "</table>\n",
       "</div>"
      ],
      "text/plain": [
       "   MessageID  ThreadID                                     ThreadName  \\\n",
       "0    1000015      5536  Love Animals? Like George Clooney?Are hungry?   \n",
       "1    1000038      5536  Love Animals? Like George Clooney?Are hungry?   \n",
       "2    1000069      5536  Love Animals? Like George Clooney?Are hungry?   \n",
       "3    1000099      5536  Love Animals? Like George Clooney?Are hungry?   \n",
       "4    1000132      5536  Love Animals? Like George Clooney?Are hungry?   \n",
       "\n",
       "             Date_Time  MemberID                          MemberName  \\\n",
       "0  2009-03-14 17:32:00       339       Paradox\\t\\t\\t\\t\\t\\t\\t\\t\\t\\t\\t   \n",
       "1  2009-03-14 18:08:00       240      Filament\\t\\t\\t\\t\\t\\t\\t\\t\\t\\t\\t   \n",
       "2  2009-03-14 19:15:00       988  ~*~JiLk@Y~*~\\t\\t\\t\\t\\t\\t\\t\\t\\t\\t\\t   \n",
       "3  2009-03-14 22:15:00       339       Paradox\\t\\t\\t\\t\\t\\t\\t\\t\\t\\t\\t   \n",
       "4  2009-03-14 22:38:00       240      Filament\\t\\t\\t\\t\\t\\t\\t\\t\\t\\t\\t   \n",
       "\n",
       "                                             Message  P_Year  P_Month  P_Day  \\\n",
       "0  I don't like celebrity news but this needed to...    2009        3     14   \n",
       "1  Ew! \"Have courage for the great sorrows of lif...    2009        3     14   \n",
       "2  what? I am a traveler seeking the truth, a hum...    2009        3     14   \n",
       "3  Well it is as good a time as any to throw the ...    2009        3     14   \n",
       "4  Ew X infinity. \"Have courage for the great sor...    2009        3     14   \n",
       "\n",
       "                    P_Date  ThreadFirstMessageID  \n",
       "0  2009-03-14 17:32:00.000               1000015  \n",
       "1  2009-03-14 18:08:00.000               1000015  \n",
       "2  2009-03-14 19:15:00.000               1000015  \n",
       "3  2009-03-14 22:15:00.000               1000015  \n",
       "4  2009-03-14 22:38:00.000               1000015  "
      ]
     },
     "execution_count": 1,
     "metadata": {},
     "output_type": "execute_result"
    }
   ],
   "source": [
    "import pandas as pd\n",
    "import os \n",
    "import pandas as pd\n",
    "import pandas_profiling\n",
    "import matplotlib.pyplot as plt\n",
    "import seaborn as sns\n",
    "os.chdir('C:/Users/SPEED TAIL/Desktop/STUDENTSECURITY')\n",
    "#df = pd.read_table('fff.txt',delimiter=\",\", encoding='utf-8')\n",
    "df = pd.read_csv('afghanForum.csv',error_bad_lines=False)\n",
    "#data = pd.read_table('allsomaliforum.csv',sep='delimiter', error_bad_lines=False, sep='\\t')\n",
    "#result = pd.read_table('m.csv')\n",
    "##df.rename(columns = {'v1':'label','v2':'sms'},inplace=True)\n",
    "# Output printing out first 5 columns\n",
    "df.head() "
   ]
  },
  {
   "cell_type": "code",
   "execution_count": null,
   "metadata": {},
   "outputs": [],
   "source": [
    "# Overview for the dataset and variables\n",
    "pandas_profiling.ProfileReport(df)"
   ]
  },
  {
   "cell_type": "markdown",
   "metadata": {},
   "source": [
    "### Step 1.2: Data Preprocessing ###\n",
    "\n"
   ]
  },
  {
   "cell_type": "code",
   "execution_count": null,
   "metadata": {},
   "outputs": [],
   "source": [
    "df.describe"
   ]
  },
  {
   "cell_type": "code",
   "execution_count": 2,
   "metadata": {},
   "outputs": [
    {
     "data": {
      "text/plain": [
       "(88032, 12)"
      ]
     },
     "execution_count": 2,
     "metadata": {},
     "output_type": "execute_result"
    }
   ],
   "source": [
    "df.shape"
   ]
  },
  {
   "cell_type": "code",
   "execution_count": 3,
   "metadata": {},
   "outputs": [
    {
     "data": {
      "text/html": [
       "<div>\n",
       "<style scoped>\n",
       "    .dataframe tbody tr th:only-of-type {\n",
       "        vertical-align: middle;\n",
       "    }\n",
       "\n",
       "    .dataframe tbody tr th {\n",
       "        vertical-align: top;\n",
       "    }\n",
       "\n",
       "    .dataframe thead th {\n",
       "        text-align: right;\n",
       "    }\n",
       "</style>\n",
       "<table border=\"1\" class=\"dataframe\">\n",
       "  <thead>\n",
       "    <tr style=\"text-align: right;\">\n",
       "      <th></th>\n",
       "      <th>MessageID</th>\n",
       "      <th>ThreadID</th>\n",
       "      <th>ThreadName</th>\n",
       "      <th>Date_Time</th>\n",
       "      <th>MemberID</th>\n",
       "      <th>MemberName</th>\n",
       "      <th>Message</th>\n",
       "      <th>P_Year</th>\n",
       "      <th>P_Month</th>\n",
       "      <th>P_Day</th>\n",
       "      <th>P_Date</th>\n",
       "      <th>ThreadFirstMessageID</th>\n",
       "      <th>len</th>\n",
       "    </tr>\n",
       "  </thead>\n",
       "  <tbody>\n",
       "    <tr>\n",
       "      <th>0</th>\n",
       "      <td>1000015</td>\n",
       "      <td>5536</td>\n",
       "      <td>Love Animals? Like George Clooney?Are hungry?</td>\n",
       "      <td>2009-03-14 17:32:00</td>\n",
       "      <td>339</td>\n",
       "      <td>Paradox\\t\\t\\t\\t\\t\\t\\t\\t\\t\\t\\t</td>\n",
       "      <td>I don't like celebrity news but this needed to...</td>\n",
       "      <td>2009</td>\n",
       "      <td>3</td>\n",
       "      <td>14</td>\n",
       "      <td>2009-03-14 17:32:00.000</td>\n",
       "      <td>1000015</td>\n",
       "      <td>748</td>\n",
       "    </tr>\n",
       "    <tr>\n",
       "      <th>1</th>\n",
       "      <td>1000038</td>\n",
       "      <td>5536</td>\n",
       "      <td>Love Animals? Like George Clooney?Are hungry?</td>\n",
       "      <td>2009-03-14 18:08:00</td>\n",
       "      <td>240</td>\n",
       "      <td>Filament\\t\\t\\t\\t\\t\\t\\t\\t\\t\\t\\t</td>\n",
       "      <td>Ew! \"Have courage for the great sorrows of lif...</td>\n",
       "      <td>2009</td>\n",
       "      <td>3</td>\n",
       "      <td>14</td>\n",
       "      <td>2009-03-14 18:08:00.000</td>\n",
       "      <td>1000015</td>\n",
       "      <td>191</td>\n",
       "    </tr>\n",
       "    <tr>\n",
       "      <th>2</th>\n",
       "      <td>1000069</td>\n",
       "      <td>5536</td>\n",
       "      <td>Love Animals? Like George Clooney?Are hungry?</td>\n",
       "      <td>2009-03-14 19:15:00</td>\n",
       "      <td>988</td>\n",
       "      <td>~*~JiLk@Y~*~\\t\\t\\t\\t\\t\\t\\t\\t\\t\\t\\t</td>\n",
       "      <td>what? I am a traveler seeking the truth, a hum...</td>\n",
       "      <td>2009</td>\n",
       "      <td>3</td>\n",
       "      <td>14</td>\n",
       "      <td>2009-03-14 19:15:00.000</td>\n",
       "      <td>1000015</td>\n",
       "      <td>490</td>\n",
       "    </tr>\n",
       "    <tr>\n",
       "      <th>3</th>\n",
       "      <td>1000099</td>\n",
       "      <td>5536</td>\n",
       "      <td>Love Animals? Like George Clooney?Are hungry?</td>\n",
       "      <td>2009-03-14 22:15:00</td>\n",
       "      <td>339</td>\n",
       "      <td>Paradox\\t\\t\\t\\t\\t\\t\\t\\t\\t\\t\\t</td>\n",
       "      <td>Well it is as good a time as any to throw the ...</td>\n",
       "      <td>2009</td>\n",
       "      <td>3</td>\n",
       "      <td>14</td>\n",
       "      <td>2009-03-14 22:15:00.000</td>\n",
       "      <td>1000015</td>\n",
       "      <td>359</td>\n",
       "    </tr>\n",
       "    <tr>\n",
       "      <th>4</th>\n",
       "      <td>1000132</td>\n",
       "      <td>5536</td>\n",
       "      <td>Love Animals? Like George Clooney?Are hungry?</td>\n",
       "      <td>2009-03-14 22:38:00</td>\n",
       "      <td>240</td>\n",
       "      <td>Filament\\t\\t\\t\\t\\t\\t\\t\\t\\t\\t\\t</td>\n",
       "      <td>Ew X infinity. \"Have courage for the great sor...</td>\n",
       "      <td>2009</td>\n",
       "      <td>3</td>\n",
       "      <td>14</td>\n",
       "      <td>2009-03-14 22:38:00.000</td>\n",
       "      <td>1000015</td>\n",
       "      <td>202</td>\n",
       "    </tr>\n",
       "    <tr>\n",
       "      <th>5</th>\n",
       "      <td>1000168</td>\n",
       "      <td>5536</td>\n",
       "      <td>Love Animals? Like George Clooney?Are hungry?</td>\n",
       "      <td>2009-03-14 23:44:00</td>\n",
       "      <td>988</td>\n",
       "      <td>~*~JiLk@Y~*~\\t\\t\\t\\t\\t\\t\\t\\t\\t\\t\\t</td>\n",
       "      <td>What? x a million I am a traveler seeking the ...</td>\n",
       "      <td>2009</td>\n",
       "      <td>3</td>\n",
       "      <td>14</td>\n",
       "      <td>2009-03-14 23:44:00.000</td>\n",
       "      <td>1000015</td>\n",
       "      <td>502</td>\n",
       "    </tr>\n",
       "    <tr>\n",
       "      <th>6</th>\n",
       "      <td>1000186</td>\n",
       "      <td>5536</td>\n",
       "      <td>Love Animals? Like George Clooney?Are hungry?</td>\n",
       "      <td>2009-03-15 01:46:00</td>\n",
       "      <td>339</td>\n",
       "      <td>Paradox\\t\\t\\t\\t\\t\\t\\t\\t\\t\\t\\t</td>\n",
       "      <td>I guess we have an auction. \"Most people are o...</td>\n",
       "      <td>2009</td>\n",
       "      <td>3</td>\n",
       "      <td>15</td>\n",
       "      <td>2009-03-15 01:46:00.000</td>\n",
       "      <td>1000015</td>\n",
       "      <td>158</td>\n",
       "    </tr>\n",
       "    <tr>\n",
       "      <th>7</th>\n",
       "      <td>1000210</td>\n",
       "      <td>5536</td>\n",
       "      <td>Love Animals? Like George Clooney?Are hungry?</td>\n",
       "      <td>2009-03-15 01:55:00</td>\n",
       "      <td>309</td>\n",
       "      <td>Batucci</td>\n",
       "      <td>lol @ his response. When is this product hitti...</td>\n",
       "      <td>2009</td>\n",
       "      <td>3</td>\n",
       "      <td>15</td>\n",
       "      <td>2009-03-15 01:55:00.000</td>\n",
       "      <td>1000015</td>\n",
       "      <td>103</td>\n",
       "    </tr>\n",
       "    <tr>\n",
       "      <th>8</th>\n",
       "      <td>100022</td>\n",
       "      <td>5556</td>\n",
       "      <td>Funny GIF's?</td>\n",
       "      <td>2009/03/17 00:00:00</td>\n",
       "      <td>269</td>\n",
       "      <td>afghan818\\t\\t\\t\\t\\t\\t\\t\\t\\t\\t\\t</td>\n",
       "      <td>(Multimedia content)</td>\n",
       "      <td>2009</td>\n",
       "      <td>3</td>\n",
       "      <td>17</td>\n",
       "      <td>2009-03-17 00:00:00.000</td>\n",
       "      <td>100022</td>\n",
       "      <td>20</td>\n",
       "    </tr>\n",
       "    <tr>\n",
       "      <th>9</th>\n",
       "      <td>1000329</td>\n",
       "      <td>5492</td>\n",
       "      <td>The Old Wishing Well</td>\n",
       "      <td>2009-03-09 11:17:00</td>\n",
       "      <td>1082</td>\n",
       "      <td>Kaleh-Khar\\t\\t\\t\\t\\t\\t\\t\\t\\t\\t\\t</td>\n",
       "      <td>you've arrived at the WISHING WELL. Throw SOME...</td>\n",
       "      <td>2009</td>\n",
       "      <td>3</td>\n",
       "      <td>9</td>\n",
       "      <td>2009-03-09 11:17:00.000</td>\n",
       "      <td>1000329</td>\n",
       "      <td>542</td>\n",
       "    </tr>\n",
       "  </tbody>\n",
       "</table>\n",
       "</div>"
      ],
      "text/plain": [
       "   MessageID  ThreadID                                     ThreadName  \\\n",
       "0    1000015      5536  Love Animals? Like George Clooney?Are hungry?   \n",
       "1    1000038      5536  Love Animals? Like George Clooney?Are hungry?   \n",
       "2    1000069      5536  Love Animals? Like George Clooney?Are hungry?   \n",
       "3    1000099      5536  Love Animals? Like George Clooney?Are hungry?   \n",
       "4    1000132      5536  Love Animals? Like George Clooney?Are hungry?   \n",
       "5    1000168      5536  Love Animals? Like George Clooney?Are hungry?   \n",
       "6    1000186      5536  Love Animals? Like George Clooney?Are hungry?   \n",
       "7    1000210      5536  Love Animals? Like George Clooney?Are hungry?   \n",
       "8     100022      5556                                   Funny GIF's?   \n",
       "9    1000329      5492                           The Old Wishing Well   \n",
       "\n",
       "             Date_Time  MemberID                          MemberName  \\\n",
       "0  2009-03-14 17:32:00       339       Paradox\\t\\t\\t\\t\\t\\t\\t\\t\\t\\t\\t   \n",
       "1  2009-03-14 18:08:00       240      Filament\\t\\t\\t\\t\\t\\t\\t\\t\\t\\t\\t   \n",
       "2  2009-03-14 19:15:00       988  ~*~JiLk@Y~*~\\t\\t\\t\\t\\t\\t\\t\\t\\t\\t\\t   \n",
       "3  2009-03-14 22:15:00       339       Paradox\\t\\t\\t\\t\\t\\t\\t\\t\\t\\t\\t   \n",
       "4  2009-03-14 22:38:00       240      Filament\\t\\t\\t\\t\\t\\t\\t\\t\\t\\t\\t   \n",
       "5  2009-03-14 23:44:00       988  ~*~JiLk@Y~*~\\t\\t\\t\\t\\t\\t\\t\\t\\t\\t\\t   \n",
       "6  2009-03-15 01:46:00       339       Paradox\\t\\t\\t\\t\\t\\t\\t\\t\\t\\t\\t   \n",
       "7  2009-03-15 01:55:00       309                             Batucci   \n",
       "8  2009/03/17 00:00:00       269     afghan818\\t\\t\\t\\t\\t\\t\\t\\t\\t\\t\\t   \n",
       "9  2009-03-09 11:17:00      1082    Kaleh-Khar\\t\\t\\t\\t\\t\\t\\t\\t\\t\\t\\t   \n",
       "\n",
       "                                             Message  P_Year  P_Month  P_Day  \\\n",
       "0  I don't like celebrity news but this needed to...    2009        3     14   \n",
       "1  Ew! \"Have courage for the great sorrows of lif...    2009        3     14   \n",
       "2  what? I am a traveler seeking the truth, a hum...    2009        3     14   \n",
       "3  Well it is as good a time as any to throw the ...    2009        3     14   \n",
       "4  Ew X infinity. \"Have courage for the great sor...    2009        3     14   \n",
       "5  What? x a million I am a traveler seeking the ...    2009        3     14   \n",
       "6  I guess we have an auction. \"Most people are o...    2009        3     15   \n",
       "7  lol @ his response. When is this product hitti...    2009        3     15   \n",
       "8                               (Multimedia content)    2009        3     17   \n",
       "9  you've arrived at the WISHING WELL. Throw SOME...    2009        3      9   \n",
       "\n",
       "                    P_Date  ThreadFirstMessageID  len  \n",
       "0  2009-03-14 17:32:00.000               1000015  748  \n",
       "1  2009-03-14 18:08:00.000               1000015  191  \n",
       "2  2009-03-14 19:15:00.000               1000015  490  \n",
       "3  2009-03-14 22:15:00.000               1000015  359  \n",
       "4  2009-03-14 22:38:00.000               1000015  202  \n",
       "5  2009-03-14 23:44:00.000               1000015  502  \n",
       "6  2009-03-15 01:46:00.000               1000015  158  \n",
       "7  2009-03-15 01:55:00.000               1000015  103  \n",
       "8  2009-03-17 00:00:00.000                100022   20  \n",
       "9  2009-03-09 11:17:00.000               1000329  542  "
      ]
     },
     "execution_count": 3,
     "metadata": {},
     "output_type": "execute_result"
    }
   ],
   "source": [
    "# adding a column to represent the length of the tweet\n",
    "\n",
    "df['len'] = df['Message'].str.len()\n",
    "df.head(10)"
   ]
  },
  {
   "cell_type": "code",
   "execution_count": 4,
   "metadata": {},
   "outputs": [
    {
     "data": {
      "text/html": [
       "<div>\n",
       "<style scoped>\n",
       "    .dataframe tbody tr th:only-of-type {\n",
       "        vertical-align: middle;\n",
       "    }\n",
       "\n",
       "    .dataframe tbody tr th {\n",
       "        vertical-align: top;\n",
       "    }\n",
       "\n",
       "    .dataframe thead tr th {\n",
       "        text-align: left;\n",
       "    }\n",
       "\n",
       "    .dataframe thead tr:last-of-type th {\n",
       "        text-align: right;\n",
       "    }\n",
       "</style>\n",
       "<table border=\"1\" class=\"dataframe\">\n",
       "  <thead>\n",
       "    <tr>\n",
       "      <th></th>\n",
       "      <th colspan=\"8\" halign=\"left\">MessageID</th>\n",
       "      <th colspan=\"2\" halign=\"left\">ThreadID</th>\n",
       "      <th>...</th>\n",
       "      <th colspan=\"2\" halign=\"left\">P_Day</th>\n",
       "      <th colspan=\"8\" halign=\"left\">ThreadFirstMessageID</th>\n",
       "    </tr>\n",
       "    <tr>\n",
       "      <th></th>\n",
       "      <th>count</th>\n",
       "      <th>mean</th>\n",
       "      <th>std</th>\n",
       "      <th>min</th>\n",
       "      <th>25%</th>\n",
       "      <th>50%</th>\n",
       "      <th>75%</th>\n",
       "      <th>max</th>\n",
       "      <th>count</th>\n",
       "      <th>mean</th>\n",
       "      <th>...</th>\n",
       "      <th>75%</th>\n",
       "      <th>max</th>\n",
       "      <th>count</th>\n",
       "      <th>mean</th>\n",
       "      <th>std</th>\n",
       "      <th>min</th>\n",
       "      <th>25%</th>\n",
       "      <th>50%</th>\n",
       "      <th>75%</th>\n",
       "      <th>max</th>\n",
       "    </tr>\n",
       "    <tr>\n",
       "      <th>len</th>\n",
       "      <th></th>\n",
       "      <th></th>\n",
       "      <th></th>\n",
       "      <th></th>\n",
       "      <th></th>\n",
       "      <th></th>\n",
       "      <th></th>\n",
       "      <th></th>\n",
       "      <th></th>\n",
       "      <th></th>\n",
       "      <th></th>\n",
       "      <th></th>\n",
       "      <th></th>\n",
       "      <th></th>\n",
       "      <th></th>\n",
       "      <th></th>\n",
       "      <th></th>\n",
       "      <th></th>\n",
       "      <th></th>\n",
       "      <th></th>\n",
       "      <th></th>\n",
       "    </tr>\n",
       "  </thead>\n",
       "  <tbody>\n",
       "    <tr>\n",
       "      <th>1</th>\n",
       "      <td>49.0</td>\n",
       "      <td>1.509223e+06</td>\n",
       "      <td>672868.521328</td>\n",
       "      <td>397197.0</td>\n",
       "      <td>1008574.00</td>\n",
       "      <td>1370868.0</td>\n",
       "      <td>2181271.00</td>\n",
       "      <td>2832449.0</td>\n",
       "      <td>49.0</td>\n",
       "      <td>3829.979592</td>\n",
       "      <td>...</td>\n",
       "      <td>23.00</td>\n",
       "      <td>30.0</td>\n",
       "      <td>49.0</td>\n",
       "      <td>1.505724e+06</td>\n",
       "      <td>675988.032118</td>\n",
       "      <td>360757.0</td>\n",
       "      <td>1008450.00</td>\n",
       "      <td>1369791.0</td>\n",
       "      <td>2181111.00</td>\n",
       "      <td>2818581.0</td>\n",
       "    </tr>\n",
       "    <tr>\n",
       "      <th>2</th>\n",
       "      <td>36.0</td>\n",
       "      <td>1.634202e+06</td>\n",
       "      <td>847855.247362</td>\n",
       "      <td>447971.0</td>\n",
       "      <td>914317.25</td>\n",
       "      <td>1505495.0</td>\n",
       "      <td>2357459.75</td>\n",
       "      <td>2834230.0</td>\n",
       "      <td>36.0</td>\n",
       "      <td>3723.805556</td>\n",
       "      <td>...</td>\n",
       "      <td>22.00</td>\n",
       "      <td>29.0</td>\n",
       "      <td>36.0</td>\n",
       "      <td>1.628974e+06</td>\n",
       "      <td>849943.451534</td>\n",
       "      <td>360757.0</td>\n",
       "      <td>902132.75</td>\n",
       "      <td>1504887.0</td>\n",
       "      <td>2357361.00</td>\n",
       "      <td>2818581.0</td>\n",
       "    </tr>\n",
       "    <tr>\n",
       "      <th>3</th>\n",
       "      <td>136.0</td>\n",
       "      <td>1.771013e+06</td>\n",
       "      <td>754802.085300</td>\n",
       "      <td>332238.0</td>\n",
       "      <td>1212506.00</td>\n",
       "      <td>1823625.0</td>\n",
       "      <td>2326245.00</td>\n",
       "      <td>2863263.0</td>\n",
       "      <td>136.0</td>\n",
       "      <td>2315.095588</td>\n",
       "      <td>...</td>\n",
       "      <td>23.00</td>\n",
       "      <td>31.0</td>\n",
       "      <td>136.0</td>\n",
       "      <td>1.748913e+06</td>\n",
       "      <td>763330.868104</td>\n",
       "      <td>325913.0</td>\n",
       "      <td>1176988.75</td>\n",
       "      <td>1785943.0</td>\n",
       "      <td>2290597.75</td>\n",
       "      <td>2863263.0</td>\n",
       "    </tr>\n",
       "    <tr>\n",
       "      <th>4</th>\n",
       "      <td>84.0</td>\n",
       "      <td>1.664923e+06</td>\n",
       "      <td>750670.331843</td>\n",
       "      <td>375043.0</td>\n",
       "      <td>988327.25</td>\n",
       "      <td>1811771.5</td>\n",
       "      <td>2194218.25</td>\n",
       "      <td>2844992.0</td>\n",
       "      <td>84.0</td>\n",
       "      <td>2865.369048</td>\n",
       "      <td>...</td>\n",
       "      <td>25.00</td>\n",
       "      <td>31.0</td>\n",
       "      <td>84.0</td>\n",
       "      <td>1.637742e+06</td>\n",
       "      <td>767428.840691</td>\n",
       "      <td>260687.0</td>\n",
       "      <td>911492.50</td>\n",
       "      <td>1776743.0</td>\n",
       "      <td>2187451.00</td>\n",
       "      <td>2843960.0</td>\n",
       "    </tr>\n",
       "    <tr>\n",
       "      <th>5</th>\n",
       "      <td>81.0</td>\n",
       "      <td>1.752827e+06</td>\n",
       "      <td>808384.127242</td>\n",
       "      <td>333369.0</td>\n",
       "      <td>933039.00</td>\n",
       "      <td>1929827.0</td>\n",
       "      <td>2396589.00</td>\n",
       "      <td>2874403.0</td>\n",
       "      <td>81.0</td>\n",
       "      <td>2909.395062</td>\n",
       "      <td>...</td>\n",
       "      <td>23.00</td>\n",
       "      <td>31.0</td>\n",
       "      <td>81.0</td>\n",
       "      <td>1.727311e+06</td>\n",
       "      <td>826318.190177</td>\n",
       "      <td>238767.0</td>\n",
       "      <td>872989.00</td>\n",
       "      <td>1912836.0</td>\n",
       "      <td>2396317.00</td>\n",
       "      <td>2874403.0</td>\n",
       "    </tr>\n",
       "    <tr>\n",
       "      <th>6</th>\n",
       "      <td>79.0</td>\n",
       "      <td>1.761624e+06</td>\n",
       "      <td>782426.026255</td>\n",
       "      <td>350000.0</td>\n",
       "      <td>985544.00</td>\n",
       "      <td>1774666.0</td>\n",
       "      <td>2568498.00</td>\n",
       "      <td>2850319.0</td>\n",
       "      <td>79.0</td>\n",
       "      <td>3079.253165</td>\n",
       "      <td>...</td>\n",
       "      <td>23.00</td>\n",
       "      <td>31.0</td>\n",
       "      <td>79.0</td>\n",
       "      <td>1.759555e+06</td>\n",
       "      <td>784010.513603</td>\n",
       "      <td>328808.0</td>\n",
       "      <td>983905.50</td>\n",
       "      <td>1774185.0</td>\n",
       "      <td>2567662.00</td>\n",
       "      <td>2850182.0</td>\n",
       "    </tr>\n",
       "    <tr>\n",
       "      <th>7</th>\n",
       "      <td>93.0</td>\n",
       "      <td>1.606144e+06</td>\n",
       "      <td>816794.692404</td>\n",
       "      <td>352788.0</td>\n",
       "      <td>935314.00</td>\n",
       "      <td>1594414.0</td>\n",
       "      <td>2262263.00</td>\n",
       "      <td>2857247.0</td>\n",
       "      <td>93.0</td>\n",
       "      <td>3225.763441</td>\n",
       "      <td>...</td>\n",
       "      <td>22.00</td>\n",
       "      <td>31.0</td>\n",
       "      <td>93.0</td>\n",
       "      <td>1.574694e+06</td>\n",
       "      <td>820322.015044</td>\n",
       "      <td>325913.0</td>\n",
       "      <td>872989.00</td>\n",
       "      <td>1556082.0</td>\n",
       "      <td>2255937.00</td>\n",
       "      <td>2846078.0</td>\n",
       "    </tr>\n",
       "    <tr>\n",
       "      <th>8</th>\n",
       "      <td>79.0</td>\n",
       "      <td>1.640358e+06</td>\n",
       "      <td>761233.746110</td>\n",
       "      <td>345713.0</td>\n",
       "      <td>877668.00</td>\n",
       "      <td>1800372.0</td>\n",
       "      <td>2249167.00</td>\n",
       "      <td>2833014.0</td>\n",
       "      <td>79.0</td>\n",
       "      <td>2836.075949</td>\n",
       "      <td>...</td>\n",
       "      <td>22.00</td>\n",
       "      <td>31.0</td>\n",
       "      <td>79.0</td>\n",
       "      <td>1.614459e+06</td>\n",
       "      <td>778150.862902</td>\n",
       "      <td>238767.0</td>\n",
       "      <td>872989.00</td>\n",
       "      <td>1774185.0</td>\n",
       "      <td>2248950.00</td>\n",
       "      <td>2818581.0</td>\n",
       "    </tr>\n",
       "    <tr>\n",
       "      <th>9</th>\n",
       "      <td>129.0</td>\n",
       "      <td>1.654768e+06</td>\n",
       "      <td>746613.517421</td>\n",
       "      <td>335967.0</td>\n",
       "      <td>1091514.00</td>\n",
       "      <td>1587432.0</td>\n",
       "      <td>2239817.00</td>\n",
       "      <td>2873163.0</td>\n",
       "      <td>129.0</td>\n",
       "      <td>2601.069767</td>\n",
       "      <td>...</td>\n",
       "      <td>21.00</td>\n",
       "      <td>31.0</td>\n",
       "      <td>129.0</td>\n",
       "      <td>1.605813e+06</td>\n",
       "      <td>761476.828589</td>\n",
       "      <td>100022.0</td>\n",
       "      <td>1087193.00</td>\n",
       "      <td>1575682.0</td>\n",
       "      <td>2214682.00</td>\n",
       "      <td>2872949.0</td>\n",
       "    </tr>\n",
       "    <tr>\n",
       "      <th>10</th>\n",
       "      <td>123.0</td>\n",
       "      <td>1.732547e+06</td>\n",
       "      <td>738422.904971</td>\n",
       "      <td>361957.0</td>\n",
       "      <td>1157424.00</td>\n",
       "      <td>1753978.0</td>\n",
       "      <td>2263959.50</td>\n",
       "      <td>2873752.0</td>\n",
       "      <td>123.0</td>\n",
       "      <td>2893.691057</td>\n",
       "      <td>...</td>\n",
       "      <td>23.50</td>\n",
       "      <td>31.0</td>\n",
       "      <td>123.0</td>\n",
       "      <td>1.717910e+06</td>\n",
       "      <td>752248.052276</td>\n",
       "      <td>195101.0</td>\n",
       "      <td>1154314.00</td>\n",
       "      <td>1744089.0</td>\n",
       "      <td>2263694.50</td>\n",
       "      <td>2873717.0</td>\n",
       "    </tr>\n",
       "    <tr>\n",
       "      <th>11</th>\n",
       "      <td>123.0</td>\n",
       "      <td>1.508230e+06</td>\n",
       "      <td>749349.946655</td>\n",
       "      <td>329190.0</td>\n",
       "      <td>895557.00</td>\n",
       "      <td>1406799.0</td>\n",
       "      <td>2121006.50</td>\n",
       "      <td>2868021.0</td>\n",
       "      <td>123.0</td>\n",
       "      <td>3251.195122</td>\n",
       "      <td>...</td>\n",
       "      <td>22.50</td>\n",
       "      <td>31.0</td>\n",
       "      <td>123.0</td>\n",
       "      <td>1.504623e+06</td>\n",
       "      <td>752918.993667</td>\n",
       "      <td>328808.0</td>\n",
       "      <td>892821.00</td>\n",
       "      <td>1405884.0</td>\n",
       "      <td>2116091.50</td>\n",
       "      <td>2867257.0</td>\n",
       "    </tr>\n",
       "    <tr>\n",
       "      <th>12</th>\n",
       "      <td>138.0</td>\n",
       "      <td>1.739895e+06</td>\n",
       "      <td>736296.663965</td>\n",
       "      <td>339565.0</td>\n",
       "      <td>1087351.25</td>\n",
       "      <td>1887574.0</td>\n",
       "      <td>2246182.00</td>\n",
       "      <td>2874088.0</td>\n",
       "      <td>138.0</td>\n",
       "      <td>2927.579710</td>\n",
       "      <td>...</td>\n",
       "      <td>20.00</td>\n",
       "      <td>31.0</td>\n",
       "      <td>138.0</td>\n",
       "      <td>1.737028e+06</td>\n",
       "      <td>739668.413421</td>\n",
       "      <td>328808.0</td>\n",
       "      <td>1087295.25</td>\n",
       "      <td>1887062.5</td>\n",
       "      <td>2245740.25</td>\n",
       "      <td>2873962.0</td>\n",
       "    </tr>\n",
       "    <tr>\n",
       "      <th>13</th>\n",
       "      <td>137.0</td>\n",
       "      <td>1.555737e+06</td>\n",
       "      <td>755705.354980</td>\n",
       "      <td>333298.0</td>\n",
       "      <td>895941.00</td>\n",
       "      <td>1534771.0</td>\n",
       "      <td>2058108.00</td>\n",
       "      <td>2833619.0</td>\n",
       "      <td>137.0</td>\n",
       "      <td>3138.467153</td>\n",
       "      <td>...</td>\n",
       "      <td>24.00</td>\n",
       "      <td>31.0</td>\n",
       "      <td>137.0</td>\n",
       "      <td>1.533639e+06</td>\n",
       "      <td>775569.887012</td>\n",
       "      <td>113949.0</td>\n",
       "      <td>892821.00</td>\n",
       "      <td>1528090.0</td>\n",
       "      <td>2057953.00</td>\n",
       "      <td>2818581.0</td>\n",
       "    </tr>\n",
       "    <tr>\n",
       "      <th>14</th>\n",
       "      <td>170.0</td>\n",
       "      <td>1.641624e+06</td>\n",
       "      <td>739607.594337</td>\n",
       "      <td>345766.0</td>\n",
       "      <td>1082212.50</td>\n",
       "      <td>1642175.0</td>\n",
       "      <td>2215035.00</td>\n",
       "      <td>2866435.0</td>\n",
       "      <td>170.0</td>\n",
       "      <td>2807.564706</td>\n",
       "      <td>...</td>\n",
       "      <td>21.00</td>\n",
       "      <td>31.0</td>\n",
       "      <td>170.0</td>\n",
       "      <td>1.628013e+06</td>\n",
       "      <td>750389.446487</td>\n",
       "      <td>230904.0</td>\n",
       "      <td>1062475.75</td>\n",
       "      <td>1629292.0</td>\n",
       "      <td>2214682.00</td>\n",
       "      <td>2866212.0</td>\n",
       "    </tr>\n",
       "    <tr>\n",
       "      <th>15</th>\n",
       "      <td>149.0</td>\n",
       "      <td>1.654319e+06</td>\n",
       "      <td>716943.332362</td>\n",
       "      <td>343853.0</td>\n",
       "      <td>1064597.00</td>\n",
       "      <td>1700696.0</td>\n",
       "      <td>2208298.00</td>\n",
       "      <td>2868232.0</td>\n",
       "      <td>149.0</td>\n",
       "      <td>2907.859060</td>\n",
       "      <td>...</td>\n",
       "      <td>23.00</td>\n",
       "      <td>31.0</td>\n",
       "      <td>149.0</td>\n",
       "      <td>1.568960e+06</td>\n",
       "      <td>738781.728755</td>\n",
       "      <td>63996.0</td>\n",
       "      <td>892821.00</td>\n",
       "      <td>1608285.0</td>\n",
       "      <td>2154881.00</td>\n",
       "      <td>2867257.0</td>\n",
       "    </tr>\n",
       "    <tr>\n",
       "      <th>16</th>\n",
       "      <td>160.0</td>\n",
       "      <td>1.537942e+06</td>\n",
       "      <td>777396.348329</td>\n",
       "      <td>339937.0</td>\n",
       "      <td>894046.50</td>\n",
       "      <td>1440163.5</td>\n",
       "      <td>2204312.50</td>\n",
       "      <td>2867562.0</td>\n",
       "      <td>160.0</td>\n",
       "      <td>2818.775000</td>\n",
       "      <td>...</td>\n",
       "      <td>21.25</td>\n",
       "      <td>31.0</td>\n",
       "      <td>160.0</td>\n",
       "      <td>1.495623e+06</td>\n",
       "      <td>787752.911446</td>\n",
       "      <td>70675.0</td>\n",
       "      <td>862604.00</td>\n",
       "      <td>1427534.5</td>\n",
       "      <td>2159605.75</td>\n",
       "      <td>2867257.0</td>\n",
       "    </tr>\n",
       "    <tr>\n",
       "      <th>17</th>\n",
       "      <td>163.0</td>\n",
       "      <td>1.591381e+06</td>\n",
       "      <td>743971.483825</td>\n",
       "      <td>340760.0</td>\n",
       "      <td>930240.50</td>\n",
       "      <td>1701057.0</td>\n",
       "      <td>2152710.00</td>\n",
       "      <td>2863982.0</td>\n",
       "      <td>163.0</td>\n",
       "      <td>2620.030675</td>\n",
       "      <td>...</td>\n",
       "      <td>24.00</td>\n",
       "      <td>30.0</td>\n",
       "      <td>163.0</td>\n",
       "      <td>1.570988e+06</td>\n",
       "      <td>764523.331761</td>\n",
       "      <td>74286.0</td>\n",
       "      <td>924327.00</td>\n",
       "      <td>1694034.0</td>\n",
       "      <td>2151126.50</td>\n",
       "      <td>2863901.0</td>\n",
       "    </tr>\n",
       "    <tr>\n",
       "      <th>18</th>\n",
       "      <td>161.0</td>\n",
       "      <td>1.496314e+06</td>\n",
       "      <td>776665.485738</td>\n",
       "      <td>340742.0</td>\n",
       "      <td>699694.00</td>\n",
       "      <td>1592840.0</td>\n",
       "      <td>2194638.00</td>\n",
       "      <td>2875820.0</td>\n",
       "      <td>161.0</td>\n",
       "      <td>2900.633540</td>\n",
       "      <td>...</td>\n",
       "      <td>24.00</td>\n",
       "      <td>31.0</td>\n",
       "      <td>161.0</td>\n",
       "      <td>1.462935e+06</td>\n",
       "      <td>787550.588031</td>\n",
       "      <td>229786.0</td>\n",
       "      <td>662467.00</td>\n",
       "      <td>1588399.0</td>\n",
       "      <td>2183828.00</td>\n",
       "      <td>2875788.0</td>\n",
       "    </tr>\n",
       "    <tr>\n",
       "      <th>19</th>\n",
       "      <td>151.0</td>\n",
       "      <td>1.656199e+06</td>\n",
       "      <td>758658.665637</td>\n",
       "      <td>345312.0</td>\n",
       "      <td>964572.50</td>\n",
       "      <td>1713817.0</td>\n",
       "      <td>2263313.50</td>\n",
       "      <td>2875613.0</td>\n",
       "      <td>151.0</td>\n",
       "      <td>3086.715232</td>\n",
       "      <td>...</td>\n",
       "      <td>24.00</td>\n",
       "      <td>31.0</td>\n",
       "      <td>151.0</td>\n",
       "      <td>1.636702e+06</td>\n",
       "      <td>763497.807810</td>\n",
       "      <td>325913.0</td>\n",
       "      <td>950588.50</td>\n",
       "      <td>1692017.0</td>\n",
       "      <td>2259462.50</td>\n",
       "      <td>2875374.0</td>\n",
       "    </tr>\n",
       "    <tr>\n",
       "      <th>20</th>\n",
       "      <td>191.0</td>\n",
       "      <td>1.256886e+06</td>\n",
       "      <td>841620.209143</td>\n",
       "      <td>30900.0</td>\n",
       "      <td>439578.50</td>\n",
       "      <td>1273416.0</td>\n",
       "      <td>1983112.50</td>\n",
       "      <td>2869657.0</td>\n",
       "      <td>191.0</td>\n",
       "      <td>3325.340314</td>\n",
       "      <td>...</td>\n",
       "      <td>22.00</td>\n",
       "      <td>31.0</td>\n",
       "      <td>191.0</td>\n",
       "      <td>1.229911e+06</td>\n",
       "      <td>848053.374128</td>\n",
       "      <td>30900.0</td>\n",
       "      <td>360757.00</td>\n",
       "      <td>1238569.0</td>\n",
       "      <td>1952995.00</td>\n",
       "      <td>2869508.0</td>\n",
       "    </tr>\n",
       "    <tr>\n",
       "      <th>21</th>\n",
       "      <td>134.0</td>\n",
       "      <td>1.706276e+06</td>\n",
       "      <td>729537.514975</td>\n",
       "      <td>339953.0</td>\n",
       "      <td>1158792.25</td>\n",
       "      <td>1913710.5</td>\n",
       "      <td>2227453.50</td>\n",
       "      <td>2855716.0</td>\n",
       "      <td>134.0</td>\n",
       "      <td>2533.141791</td>\n",
       "      <td>...</td>\n",
       "      <td>21.00</td>\n",
       "      <td>31.0</td>\n",
       "      <td>134.0</td>\n",
       "      <td>1.701339e+06</td>\n",
       "      <td>736581.953974</td>\n",
       "      <td>328808.0</td>\n",
       "      <td>1157118.75</td>\n",
       "      <td>1912836.0</td>\n",
       "      <td>2227098.50</td>\n",
       "      <td>2855276.0</td>\n",
       "    </tr>\n",
       "    <tr>\n",
       "      <th>22</th>\n",
       "      <td>170.0</td>\n",
       "      <td>1.635089e+06</td>\n",
       "      <td>787306.409853</td>\n",
       "      <td>336629.0</td>\n",
       "      <td>891338.00</td>\n",
       "      <td>1612806.0</td>\n",
       "      <td>2230040.50</td>\n",
       "      <td>2862303.0</td>\n",
       "      <td>170.0</td>\n",
       "      <td>2944.382353</td>\n",
       "      <td>...</td>\n",
       "      <td>22.00</td>\n",
       "      <td>31.0</td>\n",
       "      <td>170.0</td>\n",
       "      <td>1.616000e+06</td>\n",
       "      <td>805541.211934</td>\n",
       "      <td>74286.0</td>\n",
       "      <td>883707.50</td>\n",
       "      <td>1591343.0</td>\n",
       "      <td>2229981.75</td>\n",
       "      <td>2861962.0</td>\n",
       "    </tr>\n",
       "    <tr>\n",
       "      <th>23</th>\n",
       "      <td>141.0</td>\n",
       "      <td>1.580420e+06</td>\n",
       "      <td>750602.741076</td>\n",
       "      <td>329958.0</td>\n",
       "      <td>861212.00</td>\n",
       "      <td>1589224.0</td>\n",
       "      <td>2195450.00</td>\n",
       "      <td>2858604.0</td>\n",
       "      <td>141.0</td>\n",
       "      <td>3004.517730</td>\n",
       "      <td>...</td>\n",
       "      <td>24.00</td>\n",
       "      <td>31.0</td>\n",
       "      <td>141.0</td>\n",
       "      <td>1.547355e+06</td>\n",
       "      <td>759517.323008</td>\n",
       "      <td>229786.0</td>\n",
       "      <td>831449.00</td>\n",
       "      <td>1575682.0</td>\n",
       "      <td>2192567.00</td>\n",
       "      <td>2850499.0</td>\n",
       "    </tr>\n",
       "    <tr>\n",
       "      <th>24</th>\n",
       "      <td>182.0</td>\n",
       "      <td>1.582075e+06</td>\n",
       "      <td>781444.039863</td>\n",
       "      <td>334106.0</td>\n",
       "      <td>893973.25</td>\n",
       "      <td>1595795.0</td>\n",
       "      <td>2200772.00</td>\n",
       "      <td>2875268.0</td>\n",
       "      <td>182.0</td>\n",
       "      <td>2836.565934</td>\n",
       "      <td>...</td>\n",
       "      <td>22.75</td>\n",
       "      <td>31.0</td>\n",
       "      <td>182.0</td>\n",
       "      <td>1.559443e+06</td>\n",
       "      <td>791733.807605</td>\n",
       "      <td>113949.0</td>\n",
       "      <td>846235.50</td>\n",
       "      <td>1558337.0</td>\n",
       "      <td>2178335.25</td>\n",
       "      <td>2874996.0</td>\n",
       "    </tr>\n",
       "    <tr>\n",
       "      <th>25</th>\n",
       "      <td>167.0</td>\n",
       "      <td>1.622273e+06</td>\n",
       "      <td>750182.016538</td>\n",
       "      <td>339552.0</td>\n",
       "      <td>1031502.00</td>\n",
       "      <td>1569301.0</td>\n",
       "      <td>2228839.00</td>\n",
       "      <td>2875339.0</td>\n",
       "      <td>167.0</td>\n",
       "      <td>2945.203593</td>\n",
       "      <td>...</td>\n",
       "      <td>23.00</td>\n",
       "      <td>31.0</td>\n",
       "      <td>167.0</td>\n",
       "      <td>1.584337e+06</td>\n",
       "      <td>761166.039919</td>\n",
       "      <td>74286.0</td>\n",
       "      <td>977723.00</td>\n",
       "      <td>1556973.0</td>\n",
       "      <td>2217638.50</td>\n",
       "      <td>2875309.0</td>\n",
       "    </tr>\n",
       "    <tr>\n",
       "      <th>26</th>\n",
       "      <td>169.0</td>\n",
       "      <td>1.627174e+06</td>\n",
       "      <td>773112.998182</td>\n",
       "      <td>330919.0</td>\n",
       "      <td>973511.00</td>\n",
       "      <td>1588620.0</td>\n",
       "      <td>2232471.00</td>\n",
       "      <td>2873059.0</td>\n",
       "      <td>169.0</td>\n",
       "      <td>3011.059172</td>\n",
       "      <td>...</td>\n",
       "      <td>25.00</td>\n",
       "      <td>31.0</td>\n",
       "      <td>169.0</td>\n",
       "      <td>1.582985e+06</td>\n",
       "      <td>798863.668125</td>\n",
       "      <td>113949.0</td>\n",
       "      <td>955117.00</td>\n",
       "      <td>1508601.0</td>\n",
       "      <td>2231714.00</td>\n",
       "      <td>2872949.0</td>\n",
       "    </tr>\n",
       "    <tr>\n",
       "      <th>27</th>\n",
       "      <td>173.0</td>\n",
       "      <td>1.565591e+06</td>\n",
       "      <td>708171.302979</td>\n",
       "      <td>331857.0</td>\n",
       "      <td>990068.00</td>\n",
       "      <td>1518947.0</td>\n",
       "      <td>2142305.00</td>\n",
       "      <td>2863566.0</td>\n",
       "      <td>173.0</td>\n",
       "      <td>3008.768786</td>\n",
       "      <td>...</td>\n",
       "      <td>23.00</td>\n",
       "      <td>31.0</td>\n",
       "      <td>173.0</td>\n",
       "      <td>1.532664e+06</td>\n",
       "      <td>710939.402825</td>\n",
       "      <td>325913.0</td>\n",
       "      <td>955117.00</td>\n",
       "      <td>1498983.0</td>\n",
       "      <td>2132750.00</td>\n",
       "      <td>2796558.0</td>\n",
       "    </tr>\n",
       "    <tr>\n",
       "      <th>28</th>\n",
       "      <td>131.0</td>\n",
       "      <td>1.570967e+06</td>\n",
       "      <td>788117.746127</td>\n",
       "      <td>352492.0</td>\n",
       "      <td>834256.50</td>\n",
       "      <td>1543028.0</td>\n",
       "      <td>2181103.00</td>\n",
       "      <td>2874506.0</td>\n",
       "      <td>131.0</td>\n",
       "      <td>2807.832061</td>\n",
       "      <td>...</td>\n",
       "      <td>22.00</td>\n",
       "      <td>31.0</td>\n",
       "      <td>131.0</td>\n",
       "      <td>1.543144e+06</td>\n",
       "      <td>798126.596644</td>\n",
       "      <td>70675.0</td>\n",
       "      <td>828143.00</td>\n",
       "      <td>1538275.0</td>\n",
       "      <td>2165660.00</td>\n",
       "      <td>2874439.0</td>\n",
       "    </tr>\n",
       "    <tr>\n",
       "      <th>29</th>\n",
       "      <td>163.0</td>\n",
       "      <td>1.665003e+06</td>\n",
       "      <td>733719.832221</td>\n",
       "      <td>345054.0</td>\n",
       "      <td>1078208.50</td>\n",
       "      <td>1702284.0</td>\n",
       "      <td>2204256.00</td>\n",
       "      <td>2873079.0</td>\n",
       "      <td>163.0</td>\n",
       "      <td>2783.116564</td>\n",
       "      <td>...</td>\n",
       "      <td>24.00</td>\n",
       "      <td>31.0</td>\n",
       "      <td>163.0</td>\n",
       "      <td>1.651794e+06</td>\n",
       "      <td>744041.787562</td>\n",
       "      <td>230904.0</td>\n",
       "      <td>1056437.00</td>\n",
       "      <td>1701124.0</td>\n",
       "      <td>2204101.00</td>\n",
       "      <td>2872949.0</td>\n",
       "    </tr>\n",
       "    <tr>\n",
       "      <th>30</th>\n",
       "      <td>178.0</td>\n",
       "      <td>1.655798e+06</td>\n",
       "      <td>761860.763146</td>\n",
       "      <td>335957.0</td>\n",
       "      <td>987695.50</td>\n",
       "      <td>1721229.0</td>\n",
       "      <td>2205962.25</td>\n",
       "      <td>2864230.0</td>\n",
       "      <td>178.0</td>\n",
       "      <td>2734.325843</td>\n",
       "      <td>...</td>\n",
       "      <td>24.00</td>\n",
       "      <td>31.0</td>\n",
       "      <td>178.0</td>\n",
       "      <td>1.611844e+06</td>\n",
       "      <td>795344.472832</td>\n",
       "      <td>100022.0</td>\n",
       "      <td>924327.00</td>\n",
       "      <td>1678733.0</td>\n",
       "      <td>2203191.50</td>\n",
       "      <td>2863901.0</td>\n",
       "    </tr>\n",
       "    <tr>\n",
       "      <th>...</th>\n",
       "      <td>...</td>\n",
       "      <td>...</td>\n",
       "      <td>...</td>\n",
       "      <td>...</td>\n",
       "      <td>...</td>\n",
       "      <td>...</td>\n",
       "      <td>...</td>\n",
       "      <td>...</td>\n",
       "      <td>...</td>\n",
       "      <td>...</td>\n",
       "      <td>...</td>\n",
       "      <td>...</td>\n",
       "      <td>...</td>\n",
       "      <td>...</td>\n",
       "      <td>...</td>\n",
       "      <td>...</td>\n",
       "      <td>...</td>\n",
       "      <td>...</td>\n",
       "      <td>...</td>\n",
       "      <td>...</td>\n",
       "      <td>...</td>\n",
       "    </tr>\n",
       "    <tr>\n",
       "      <th>20502</th>\n",
       "      <td>1.0</td>\n",
       "      <td>2.388041e+06</td>\n",
       "      <td>NaN</td>\n",
       "      <td>2388041.0</td>\n",
       "      <td>2388041.00</td>\n",
       "      <td>2388041.0</td>\n",
       "      <td>2388041.00</td>\n",
       "      <td>2388041.0</td>\n",
       "      <td>1.0</td>\n",
       "      <td>495.000000</td>\n",
       "      <td>...</td>\n",
       "      <td>28.00</td>\n",
       "      <td>28.0</td>\n",
       "      <td>1.0</td>\n",
       "      <td>2.388041e+06</td>\n",
       "      <td>NaN</td>\n",
       "      <td>2388041.0</td>\n",
       "      <td>2388041.00</td>\n",
       "      <td>2388041.0</td>\n",
       "      <td>2388041.00</td>\n",
       "      <td>2388041.0</td>\n",
       "    </tr>\n",
       "    <tr>\n",
       "      <th>20823</th>\n",
       "      <td>1.0</td>\n",
       "      <td>2.528615e+06</td>\n",
       "      <td>NaN</td>\n",
       "      <td>2528615.0</td>\n",
       "      <td>2528615.00</td>\n",
       "      <td>2528615.0</td>\n",
       "      <td>2528615.00</td>\n",
       "      <td>2528615.0</td>\n",
       "      <td>1.0</td>\n",
       "      <td>1882.000000</td>\n",
       "      <td>...</td>\n",
       "      <td>30.00</td>\n",
       "      <td>30.0</td>\n",
       "      <td>1.0</td>\n",
       "      <td>2.528268e+06</td>\n",
       "      <td>NaN</td>\n",
       "      <td>2528268.0</td>\n",
       "      <td>2528268.00</td>\n",
       "      <td>2528268.0</td>\n",
       "      <td>2528268.00</td>\n",
       "      <td>2528268.0</td>\n",
       "    </tr>\n",
       "    <tr>\n",
       "      <th>21120</th>\n",
       "      <td>1.0</td>\n",
       "      <td>1.028021e+06</td>\n",
       "      <td>NaN</td>\n",
       "      <td>1028021.0</td>\n",
       "      <td>1028021.00</td>\n",
       "      <td>1028021.0</td>\n",
       "      <td>1028021.00</td>\n",
       "      <td>1028021.0</td>\n",
       "      <td>1.0</td>\n",
       "      <td>5447.000000</td>\n",
       "      <td>...</td>\n",
       "      <td>4.00</td>\n",
       "      <td>4.0</td>\n",
       "      <td>1.0</td>\n",
       "      <td>1.028021e+06</td>\n",
       "      <td>NaN</td>\n",
       "      <td>1028021.0</td>\n",
       "      <td>1028021.00</td>\n",
       "      <td>1028021.0</td>\n",
       "      <td>1028021.00</td>\n",
       "      <td>1028021.0</td>\n",
       "    </tr>\n",
       "    <tr>\n",
       "      <th>21429</th>\n",
       "      <td>1.0</td>\n",
       "      <td>2.400825e+06</td>\n",
       "      <td>NaN</td>\n",
       "      <td>2400825.0</td>\n",
       "      <td>2400825.00</td>\n",
       "      <td>2400825.0</td>\n",
       "      <td>2400825.00</td>\n",
       "      <td>2400825.0</td>\n",
       "      <td>1.0</td>\n",
       "      <td>7119.000000</td>\n",
       "      <td>...</td>\n",
       "      <td>6.00</td>\n",
       "      <td>6.0</td>\n",
       "      <td>1.0</td>\n",
       "      <td>2.400598e+06</td>\n",
       "      <td>NaN</td>\n",
       "      <td>2400598.0</td>\n",
       "      <td>2400598.00</td>\n",
       "      <td>2400598.0</td>\n",
       "      <td>2400598.00</td>\n",
       "      <td>2400598.0</td>\n",
       "    </tr>\n",
       "    <tr>\n",
       "      <th>21703</th>\n",
       "      <td>1.0</td>\n",
       "      <td>2.396193e+06</td>\n",
       "      <td>NaN</td>\n",
       "      <td>2396193.0</td>\n",
       "      <td>2396193.00</td>\n",
       "      <td>2396193.0</td>\n",
       "      <td>2396193.00</td>\n",
       "      <td>2396193.0</td>\n",
       "      <td>1.0</td>\n",
       "      <td>7519.000000</td>\n",
       "      <td>...</td>\n",
       "      <td>3.00</td>\n",
       "      <td>3.0</td>\n",
       "      <td>1.0</td>\n",
       "      <td>2.396193e+06</td>\n",
       "      <td>NaN</td>\n",
       "      <td>2396193.0</td>\n",
       "      <td>2396193.00</td>\n",
       "      <td>2396193.0</td>\n",
       "      <td>2396193.00</td>\n",
       "      <td>2396193.0</td>\n",
       "    </tr>\n",
       "    <tr>\n",
       "      <th>21807</th>\n",
       "      <td>1.0</td>\n",
       "      <td>2.390687e+06</td>\n",
       "      <td>NaN</td>\n",
       "      <td>2390687.0</td>\n",
       "      <td>2390687.00</td>\n",
       "      <td>2390687.0</td>\n",
       "      <td>2390687.00</td>\n",
       "      <td>2390687.0</td>\n",
       "      <td>1.0</td>\n",
       "      <td>400.000000</td>\n",
       "      <td>...</td>\n",
       "      <td>22.00</td>\n",
       "      <td>22.0</td>\n",
       "      <td>1.0</td>\n",
       "      <td>2.390687e+06</td>\n",
       "      <td>NaN</td>\n",
       "      <td>2390687.0</td>\n",
       "      <td>2390687.00</td>\n",
       "      <td>2390687.0</td>\n",
       "      <td>2390687.00</td>\n",
       "      <td>2390687.0</td>\n",
       "    </tr>\n",
       "    <tr>\n",
       "      <th>22082</th>\n",
       "      <td>1.0</td>\n",
       "      <td>2.364713e+06</td>\n",
       "      <td>NaN</td>\n",
       "      <td>2364713.0</td>\n",
       "      <td>2364713.00</td>\n",
       "      <td>2364713.0</td>\n",
       "      <td>2364713.00</td>\n",
       "      <td>2364713.0</td>\n",
       "      <td>1.0</td>\n",
       "      <td>1929.000000</td>\n",
       "      <td>...</td>\n",
       "      <td>30.00</td>\n",
       "      <td>30.0</td>\n",
       "      <td>1.0</td>\n",
       "      <td>2.364713e+06</td>\n",
       "      <td>NaN</td>\n",
       "      <td>2364713.0</td>\n",
       "      <td>2364713.00</td>\n",
       "      <td>2364713.0</td>\n",
       "      <td>2364713.00</td>\n",
       "      <td>2364713.0</td>\n",
       "    </tr>\n",
       "    <tr>\n",
       "      <th>22196</th>\n",
       "      <td>1.0</td>\n",
       "      <td>2.343299e+06</td>\n",
       "      <td>NaN</td>\n",
       "      <td>2343299.0</td>\n",
       "      <td>2343299.00</td>\n",
       "      <td>2343299.0</td>\n",
       "      <td>2343299.00</td>\n",
       "      <td>2343299.0</td>\n",
       "      <td>1.0</td>\n",
       "      <td>2798.000000</td>\n",
       "      <td>...</td>\n",
       "      <td>7.00</td>\n",
       "      <td>7.0</td>\n",
       "      <td>1.0</td>\n",
       "      <td>2.343268e+06</td>\n",
       "      <td>NaN</td>\n",
       "      <td>2343268.0</td>\n",
       "      <td>2343268.00</td>\n",
       "      <td>2343268.0</td>\n",
       "      <td>2343268.00</td>\n",
       "      <td>2343268.0</td>\n",
       "    </tr>\n",
       "    <tr>\n",
       "      <th>22278</th>\n",
       "      <td>1.0</td>\n",
       "      <td>2.289451e+06</td>\n",
       "      <td>NaN</td>\n",
       "      <td>2289451.0</td>\n",
       "      <td>2289451.00</td>\n",
       "      <td>2289451.0</td>\n",
       "      <td>2289451.00</td>\n",
       "      <td>2289451.0</td>\n",
       "      <td>1.0</td>\n",
       "      <td>7712.000000</td>\n",
       "      <td>...</td>\n",
       "      <td>26.00</td>\n",
       "      <td>26.0</td>\n",
       "      <td>1.0</td>\n",
       "      <td>2.289451e+06</td>\n",
       "      <td>NaN</td>\n",
       "      <td>2289451.0</td>\n",
       "      <td>2289451.00</td>\n",
       "      <td>2289451.0</td>\n",
       "      <td>2289451.00</td>\n",
       "      <td>2289451.0</td>\n",
       "    </tr>\n",
       "    <tr>\n",
       "      <th>22312</th>\n",
       "      <td>1.0</td>\n",
       "      <td>2.342040e+06</td>\n",
       "      <td>NaN</td>\n",
       "      <td>2342040.0</td>\n",
       "      <td>2342040.00</td>\n",
       "      <td>2342040.0</td>\n",
       "      <td>2342040.00</td>\n",
       "      <td>2342040.0</td>\n",
       "      <td>1.0</td>\n",
       "      <td>2861.000000</td>\n",
       "      <td>...</td>\n",
       "      <td>12.00</td>\n",
       "      <td>12.0</td>\n",
       "      <td>1.0</td>\n",
       "      <td>2.342040e+06</td>\n",
       "      <td>NaN</td>\n",
       "      <td>2342040.0</td>\n",
       "      <td>2342040.00</td>\n",
       "      <td>2342040.0</td>\n",
       "      <td>2342040.00</td>\n",
       "      <td>2342040.0</td>\n",
       "    </tr>\n",
       "    <tr>\n",
       "      <th>23138</th>\n",
       "      <td>1.0</td>\n",
       "      <td>7.302740e+05</td>\n",
       "      <td>NaN</td>\n",
       "      <td>730274.0</td>\n",
       "      <td>730274.00</td>\n",
       "      <td>730274.0</td>\n",
       "      <td>730274.00</td>\n",
       "      <td>730274.0</td>\n",
       "      <td>1.0</td>\n",
       "      <td>6288.000000</td>\n",
       "      <td>...</td>\n",
       "      <td>19.00</td>\n",
       "      <td>19.0</td>\n",
       "      <td>1.0</td>\n",
       "      <td>7.302740e+05</td>\n",
       "      <td>NaN</td>\n",
       "      <td>730274.0</td>\n",
       "      <td>730274.00</td>\n",
       "      <td>730274.0</td>\n",
       "      <td>730274.00</td>\n",
       "      <td>730274.0</td>\n",
       "    </tr>\n",
       "    <tr>\n",
       "      <th>23235</th>\n",
       "      <td>1.0</td>\n",
       "      <td>2.056326e+06</td>\n",
       "      <td>NaN</td>\n",
       "      <td>2056326.0</td>\n",
       "      <td>2056326.00</td>\n",
       "      <td>2056326.0</td>\n",
       "      <td>2056326.00</td>\n",
       "      <td>2056326.0</td>\n",
       "      <td>1.0</td>\n",
       "      <td>789.000000</td>\n",
       "      <td>...</td>\n",
       "      <td>27.00</td>\n",
       "      <td>27.0</td>\n",
       "      <td>1.0</td>\n",
       "      <td>2.054844e+06</td>\n",
       "      <td>NaN</td>\n",
       "      <td>2054844.0</td>\n",
       "      <td>2054844.00</td>\n",
       "      <td>2054844.0</td>\n",
       "      <td>2054844.00</td>\n",
       "      <td>2054844.0</td>\n",
       "    </tr>\n",
       "    <tr>\n",
       "      <th>23990</th>\n",
       "      <td>1.0</td>\n",
       "      <td>2.486673e+06</td>\n",
       "      <td>NaN</td>\n",
       "      <td>2486673.0</td>\n",
       "      <td>2486673.00</td>\n",
       "      <td>2486673.0</td>\n",
       "      <td>2486673.00</td>\n",
       "      <td>2486673.0</td>\n",
       "      <td>1.0</td>\n",
       "      <td>646.000000</td>\n",
       "      <td>...</td>\n",
       "      <td>7.00</td>\n",
       "      <td>7.0</td>\n",
       "      <td>1.0</td>\n",
       "      <td>2.486673e+06</td>\n",
       "      <td>NaN</td>\n",
       "      <td>2486673.0</td>\n",
       "      <td>2486673.00</td>\n",
       "      <td>2486673.0</td>\n",
       "      <td>2486673.00</td>\n",
       "      <td>2486673.0</td>\n",
       "    </tr>\n",
       "    <tr>\n",
       "      <th>24453</th>\n",
       "      <td>1.0</td>\n",
       "      <td>2.391856e+06</td>\n",
       "      <td>NaN</td>\n",
       "      <td>2391856.0</td>\n",
       "      <td>2391856.00</td>\n",
       "      <td>2391856.0</td>\n",
       "      <td>2391856.00</td>\n",
       "      <td>2391856.0</td>\n",
       "      <td>1.0</td>\n",
       "      <td>185.000000</td>\n",
       "      <td>...</td>\n",
       "      <td>9.00</td>\n",
       "      <td>9.0</td>\n",
       "      <td>1.0</td>\n",
       "      <td>2.391856e+06</td>\n",
       "      <td>NaN</td>\n",
       "      <td>2391856.0</td>\n",
       "      <td>2391856.00</td>\n",
       "      <td>2391856.0</td>\n",
       "      <td>2391856.00</td>\n",
       "      <td>2391856.0</td>\n",
       "    </tr>\n",
       "    <tr>\n",
       "      <th>25348</th>\n",
       "      <td>1.0</td>\n",
       "      <td>2.733692e+06</td>\n",
       "      <td>NaN</td>\n",
       "      <td>2733692.0</td>\n",
       "      <td>2733692.00</td>\n",
       "      <td>2733692.0</td>\n",
       "      <td>2733692.00</td>\n",
       "      <td>2733692.0</td>\n",
       "      <td>1.0</td>\n",
       "      <td>4636.000000</td>\n",
       "      <td>...</td>\n",
       "      <td>29.00</td>\n",
       "      <td>29.0</td>\n",
       "      <td>1.0</td>\n",
       "      <td>2.732531e+06</td>\n",
       "      <td>NaN</td>\n",
       "      <td>2732531.0</td>\n",
       "      <td>2732531.00</td>\n",
       "      <td>2732531.0</td>\n",
       "      <td>2732531.00</td>\n",
       "      <td>2732531.0</td>\n",
       "    </tr>\n",
       "    <tr>\n",
       "      <th>27039</th>\n",
       "      <td>1.0</td>\n",
       "      <td>2.615014e+06</td>\n",
       "      <td>NaN</td>\n",
       "      <td>2615014.0</td>\n",
       "      <td>2615014.00</td>\n",
       "      <td>2615014.0</td>\n",
       "      <td>2615014.00</td>\n",
       "      <td>2615014.0</td>\n",
       "      <td>1.0</td>\n",
       "      <td>2260.000000</td>\n",
       "      <td>...</td>\n",
       "      <td>5.00</td>\n",
       "      <td>5.0</td>\n",
       "      <td>1.0</td>\n",
       "      <td>2.614649e+06</td>\n",
       "      <td>NaN</td>\n",
       "      <td>2614649.0</td>\n",
       "      <td>2614649.00</td>\n",
       "      <td>2614649.0</td>\n",
       "      <td>2614649.00</td>\n",
       "      <td>2614649.0</td>\n",
       "    </tr>\n",
       "    <tr>\n",
       "      <th>27367</th>\n",
       "      <td>1.0</td>\n",
       "      <td>2.386709e+06</td>\n",
       "      <td>NaN</td>\n",
       "      <td>2386709.0</td>\n",
       "      <td>2386709.00</td>\n",
       "      <td>2386709.0</td>\n",
       "      <td>2386709.00</td>\n",
       "      <td>2386709.0</td>\n",
       "      <td>1.0</td>\n",
       "      <td>317.000000</td>\n",
       "      <td>...</td>\n",
       "      <td>3.00</td>\n",
       "      <td>3.0</td>\n",
       "      <td>1.0</td>\n",
       "      <td>2.386378e+06</td>\n",
       "      <td>NaN</td>\n",
       "      <td>2386378.0</td>\n",
       "      <td>2386378.00</td>\n",
       "      <td>2386378.0</td>\n",
       "      <td>2386378.00</td>\n",
       "      <td>2386378.0</td>\n",
       "    </tr>\n",
       "    <tr>\n",
       "      <th>27698</th>\n",
       "      <td>1.0</td>\n",
       "      <td>2.288784e+06</td>\n",
       "      <td>NaN</td>\n",
       "      <td>2288784.0</td>\n",
       "      <td>2288784.00</td>\n",
       "      <td>2288784.0</td>\n",
       "      <td>2288784.00</td>\n",
       "      <td>2288784.0</td>\n",
       "      <td>1.0</td>\n",
       "      <td>7742.000000</td>\n",
       "      <td>...</td>\n",
       "      <td>6.00</td>\n",
       "      <td>6.0</td>\n",
       "      <td>1.0</td>\n",
       "      <td>2.288477e+06</td>\n",
       "      <td>NaN</td>\n",
       "      <td>2288477.0</td>\n",
       "      <td>2288477.00</td>\n",
       "      <td>2288477.0</td>\n",
       "      <td>2288477.00</td>\n",
       "      <td>2288477.0</td>\n",
       "    </tr>\n",
       "    <tr>\n",
       "      <th>30762</th>\n",
       "      <td>1.0</td>\n",
       "      <td>2.431251e+06</td>\n",
       "      <td>NaN</td>\n",
       "      <td>2431251.0</td>\n",
       "      <td>2431251.00</td>\n",
       "      <td>2431251.0</td>\n",
       "      <td>2431251.00</td>\n",
       "      <td>2431251.0</td>\n",
       "      <td>1.0</td>\n",
       "      <td>4297.000000</td>\n",
       "      <td>...</td>\n",
       "      <td>24.00</td>\n",
       "      <td>24.0</td>\n",
       "      <td>1.0</td>\n",
       "      <td>2.431251e+06</td>\n",
       "      <td>NaN</td>\n",
       "      <td>2431251.0</td>\n",
       "      <td>2431251.00</td>\n",
       "      <td>2431251.0</td>\n",
       "      <td>2431251.00</td>\n",
       "      <td>2431251.0</td>\n",
       "    </tr>\n",
       "    <tr>\n",
       "      <th>33603</th>\n",
       "      <td>1.0</td>\n",
       "      <td>2.343268e+06</td>\n",
       "      <td>NaN</td>\n",
       "      <td>2343268.0</td>\n",
       "      <td>2343268.00</td>\n",
       "      <td>2343268.0</td>\n",
       "      <td>2343268.00</td>\n",
       "      <td>2343268.0</td>\n",
       "      <td>1.0</td>\n",
       "      <td>2798.000000</td>\n",
       "      <td>...</td>\n",
       "      <td>7.00</td>\n",
       "      <td>7.0</td>\n",
       "      <td>1.0</td>\n",
       "      <td>2.343268e+06</td>\n",
       "      <td>NaN</td>\n",
       "      <td>2343268.0</td>\n",
       "      <td>2343268.00</td>\n",
       "      <td>2343268.0</td>\n",
       "      <td>2343268.00</td>\n",
       "      <td>2343268.0</td>\n",
       "    </tr>\n",
       "    <tr>\n",
       "      <th>33824</th>\n",
       "      <td>1.0</td>\n",
       "      <td>2.297738e+06</td>\n",
       "      <td>NaN</td>\n",
       "      <td>2297738.0</td>\n",
       "      <td>2297738.00</td>\n",
       "      <td>2297738.0</td>\n",
       "      <td>2297738.00</td>\n",
       "      <td>2297738.0</td>\n",
       "      <td>1.0</td>\n",
       "      <td>6603.000000</td>\n",
       "      <td>...</td>\n",
       "      <td>31.00</td>\n",
       "      <td>31.0</td>\n",
       "      <td>1.0</td>\n",
       "      <td>2.297253e+06</td>\n",
       "      <td>NaN</td>\n",
       "      <td>2297253.0</td>\n",
       "      <td>2297253.00</td>\n",
       "      <td>2297253.0</td>\n",
       "      <td>2297253.00</td>\n",
       "      <td>2297253.0</td>\n",
       "    </tr>\n",
       "    <tr>\n",
       "      <th>34006</th>\n",
       "      <td>1.0</td>\n",
       "      <td>2.391812e+06</td>\n",
       "      <td>NaN</td>\n",
       "      <td>2391812.0</td>\n",
       "      <td>2391812.00</td>\n",
       "      <td>2391812.0</td>\n",
       "      <td>2391812.00</td>\n",
       "      <td>2391812.0</td>\n",
       "      <td>1.0</td>\n",
       "      <td>240.000000</td>\n",
       "      <td>...</td>\n",
       "      <td>11.00</td>\n",
       "      <td>11.0</td>\n",
       "      <td>1.0</td>\n",
       "      <td>2.391812e+06</td>\n",
       "      <td>NaN</td>\n",
       "      <td>2391812.0</td>\n",
       "      <td>2391812.00</td>\n",
       "      <td>2391812.0</td>\n",
       "      <td>2391812.00</td>\n",
       "      <td>2391812.0</td>\n",
       "    </tr>\n",
       "    <tr>\n",
       "      <th>34268</th>\n",
       "      <td>1.0</td>\n",
       "      <td>2.620444e+06</td>\n",
       "      <td>NaN</td>\n",
       "      <td>2620444.0</td>\n",
       "      <td>2620444.00</td>\n",
       "      <td>2620444.0</td>\n",
       "      <td>2620444.00</td>\n",
       "      <td>2620444.0</td>\n",
       "      <td>1.0</td>\n",
       "      <td>2026.000000</td>\n",
       "      <td>...</td>\n",
       "      <td>5.00</td>\n",
       "      <td>5.0</td>\n",
       "      <td>1.0</td>\n",
       "      <td>2.620444e+06</td>\n",
       "      <td>NaN</td>\n",
       "      <td>2620444.0</td>\n",
       "      <td>2620444.00</td>\n",
       "      <td>2620444.0</td>\n",
       "      <td>2620444.00</td>\n",
       "      <td>2620444.0</td>\n",
       "    </tr>\n",
       "    <tr>\n",
       "      <th>34429</th>\n",
       "      <td>1.0</td>\n",
       "      <td>2.297637e+06</td>\n",
       "      <td>NaN</td>\n",
       "      <td>2297637.0</td>\n",
       "      <td>2297637.00</td>\n",
       "      <td>2297637.0</td>\n",
       "      <td>2297637.00</td>\n",
       "      <td>2297637.0</td>\n",
       "      <td>1.0</td>\n",
       "      <td>6603.000000</td>\n",
       "      <td>...</td>\n",
       "      <td>30.00</td>\n",
       "      <td>30.0</td>\n",
       "      <td>1.0</td>\n",
       "      <td>2.297253e+06</td>\n",
       "      <td>NaN</td>\n",
       "      <td>2297253.0</td>\n",
       "      <td>2297253.00</td>\n",
       "      <td>2297253.0</td>\n",
       "      <td>2297253.00</td>\n",
       "      <td>2297253.0</td>\n",
       "    </tr>\n",
       "    <tr>\n",
       "      <th>35675</th>\n",
       "      <td>1.0</td>\n",
       "      <td>1.709691e+06</td>\n",
       "      <td>NaN</td>\n",
       "      <td>1709691.0</td>\n",
       "      <td>1709691.00</td>\n",
       "      <td>1709691.0</td>\n",
       "      <td>1709691.00</td>\n",
       "      <td>1709691.0</td>\n",
       "      <td>1.0</td>\n",
       "      <td>2753.000000</td>\n",
       "      <td>...</td>\n",
       "      <td>3.00</td>\n",
       "      <td>3.0</td>\n",
       "      <td>1.0</td>\n",
       "      <td>1.709691e+06</td>\n",
       "      <td>NaN</td>\n",
       "      <td>1709691.0</td>\n",
       "      <td>1709691.00</td>\n",
       "      <td>1709691.0</td>\n",
       "      <td>1709691.00</td>\n",
       "      <td>1709691.0</td>\n",
       "    </tr>\n",
       "    <tr>\n",
       "      <th>37904</th>\n",
       "      <td>1.0</td>\n",
       "      <td>2.449688e+06</td>\n",
       "      <td>NaN</td>\n",
       "      <td>2449688.0</td>\n",
       "      <td>2449688.00</td>\n",
       "      <td>2449688.0</td>\n",
       "      <td>2449688.00</td>\n",
       "      <td>2449688.0</td>\n",
       "      <td>1.0</td>\n",
       "      <td>4106.000000</td>\n",
       "      <td>...</td>\n",
       "      <td>20.00</td>\n",
       "      <td>20.0</td>\n",
       "      <td>1.0</td>\n",
       "      <td>2.449688e+06</td>\n",
       "      <td>NaN</td>\n",
       "      <td>2449688.0</td>\n",
       "      <td>2449688.00</td>\n",
       "      <td>2449688.0</td>\n",
       "      <td>2449688.00</td>\n",
       "      <td>2449688.0</td>\n",
       "    </tr>\n",
       "    <tr>\n",
       "      <th>38431</th>\n",
       "      <td>1.0</td>\n",
       "      <td>2.463010e+06</td>\n",
       "      <td>NaN</td>\n",
       "      <td>2463010.0</td>\n",
       "      <td>2463010.00</td>\n",
       "      <td>2463010.0</td>\n",
       "      <td>2463010.00</td>\n",
       "      <td>2463010.0</td>\n",
       "      <td>1.0</td>\n",
       "      <td>3729.000000</td>\n",
       "      <td>...</td>\n",
       "      <td>4.00</td>\n",
       "      <td>4.0</td>\n",
       "      <td>1.0</td>\n",
       "      <td>2.463010e+06</td>\n",
       "      <td>NaN</td>\n",
       "      <td>2463010.0</td>\n",
       "      <td>2463010.00</td>\n",
       "      <td>2463010.0</td>\n",
       "      <td>2463010.00</td>\n",
       "      <td>2463010.0</td>\n",
       "    </tr>\n",
       "    <tr>\n",
       "      <th>41850</th>\n",
       "      <td>1.0</td>\n",
       "      <td>2.484545e+06</td>\n",
       "      <td>NaN</td>\n",
       "      <td>2484545.0</td>\n",
       "      <td>2484545.00</td>\n",
       "      <td>2484545.0</td>\n",
       "      <td>2484545.00</td>\n",
       "      <td>2484545.0</td>\n",
       "      <td>1.0</td>\n",
       "      <td>3327.000000</td>\n",
       "      <td>...</td>\n",
       "      <td>27.00</td>\n",
       "      <td>27.0</td>\n",
       "      <td>1.0</td>\n",
       "      <td>2.483680e+06</td>\n",
       "      <td>NaN</td>\n",
       "      <td>2483680.0</td>\n",
       "      <td>2483680.00</td>\n",
       "      <td>2483680.0</td>\n",
       "      <td>2483680.00</td>\n",
       "      <td>2483680.0</td>\n",
       "    </tr>\n",
       "    <tr>\n",
       "      <th>44182</th>\n",
       "      <td>1.0</td>\n",
       "      <td>2.620840e+06</td>\n",
       "      <td>NaN</td>\n",
       "      <td>2620840.0</td>\n",
       "      <td>2620840.00</td>\n",
       "      <td>2620840.0</td>\n",
       "      <td>2620840.00</td>\n",
       "      <td>2620840.0</td>\n",
       "      <td>1.0</td>\n",
       "      <td>2027.000000</td>\n",
       "      <td>...</td>\n",
       "      <td>5.00</td>\n",
       "      <td>5.0</td>\n",
       "      <td>1.0</td>\n",
       "      <td>2.620840e+06</td>\n",
       "      <td>NaN</td>\n",
       "      <td>2620840.0</td>\n",
       "      <td>2620840.00</td>\n",
       "      <td>2620840.0</td>\n",
       "      <td>2620840.00</td>\n",
       "      <td>2620840.0</td>\n",
       "    </tr>\n",
       "    <tr>\n",
       "      <th>53901</th>\n",
       "      <td>1.0</td>\n",
       "      <td>7.070290e+05</td>\n",
       "      <td>NaN</td>\n",
       "      <td>707029.0</td>\n",
       "      <td>707029.00</td>\n",
       "      <td>707029.0</td>\n",
       "      <td>707029.00</td>\n",
       "      <td>707029.0</td>\n",
       "      <td>1.0</td>\n",
       "      <td>6439.000000</td>\n",
       "      <td>...</td>\n",
       "      <td>2.00</td>\n",
       "      <td>2.0</td>\n",
       "      <td>1.0</td>\n",
       "      <td>7.070290e+05</td>\n",
       "      <td>NaN</td>\n",
       "      <td>707029.0</td>\n",
       "      <td>707029.00</td>\n",
       "      <td>707029.0</td>\n",
       "      <td>707029.00</td>\n",
       "      <td>707029.0</td>\n",
       "    </tr>\n",
       "  </tbody>\n",
       "</table>\n",
       "<p>3976 rows × 56 columns</p>\n",
       "</div>"
      ],
      "text/plain": [
       "      MessageID                                                      \\\n",
       "          count          mean            std        min         25%   \n",
       "len                                                                   \n",
       "1          49.0  1.509223e+06  672868.521328   397197.0  1008574.00   \n",
       "2          36.0  1.634202e+06  847855.247362   447971.0   914317.25   \n",
       "3         136.0  1.771013e+06  754802.085300   332238.0  1212506.00   \n",
       "4          84.0  1.664923e+06  750670.331843   375043.0   988327.25   \n",
       "5          81.0  1.752827e+06  808384.127242   333369.0   933039.00   \n",
       "6          79.0  1.761624e+06  782426.026255   350000.0   985544.00   \n",
       "7          93.0  1.606144e+06  816794.692404   352788.0   935314.00   \n",
       "8          79.0  1.640358e+06  761233.746110   345713.0   877668.00   \n",
       "9         129.0  1.654768e+06  746613.517421   335967.0  1091514.00   \n",
       "10        123.0  1.732547e+06  738422.904971   361957.0  1157424.00   \n",
       "11        123.0  1.508230e+06  749349.946655   329190.0   895557.00   \n",
       "12        138.0  1.739895e+06  736296.663965   339565.0  1087351.25   \n",
       "13        137.0  1.555737e+06  755705.354980   333298.0   895941.00   \n",
       "14        170.0  1.641624e+06  739607.594337   345766.0  1082212.50   \n",
       "15        149.0  1.654319e+06  716943.332362   343853.0  1064597.00   \n",
       "16        160.0  1.537942e+06  777396.348329   339937.0   894046.50   \n",
       "17        163.0  1.591381e+06  743971.483825   340760.0   930240.50   \n",
       "18        161.0  1.496314e+06  776665.485738   340742.0   699694.00   \n",
       "19        151.0  1.656199e+06  758658.665637   345312.0   964572.50   \n",
       "20        191.0  1.256886e+06  841620.209143    30900.0   439578.50   \n",
       "21        134.0  1.706276e+06  729537.514975   339953.0  1158792.25   \n",
       "22        170.0  1.635089e+06  787306.409853   336629.0   891338.00   \n",
       "23        141.0  1.580420e+06  750602.741076   329958.0   861212.00   \n",
       "24        182.0  1.582075e+06  781444.039863   334106.0   893973.25   \n",
       "25        167.0  1.622273e+06  750182.016538   339552.0  1031502.00   \n",
       "26        169.0  1.627174e+06  773112.998182   330919.0   973511.00   \n",
       "27        173.0  1.565591e+06  708171.302979   331857.0   990068.00   \n",
       "28        131.0  1.570967e+06  788117.746127   352492.0   834256.50   \n",
       "29        163.0  1.665003e+06  733719.832221   345054.0  1078208.50   \n",
       "30        178.0  1.655798e+06  761860.763146   335957.0   987695.50   \n",
       "...         ...           ...            ...        ...         ...   \n",
       "20502       1.0  2.388041e+06            NaN  2388041.0  2388041.00   \n",
       "20823       1.0  2.528615e+06            NaN  2528615.0  2528615.00   \n",
       "21120       1.0  1.028021e+06            NaN  1028021.0  1028021.00   \n",
       "21429       1.0  2.400825e+06            NaN  2400825.0  2400825.00   \n",
       "21703       1.0  2.396193e+06            NaN  2396193.0  2396193.00   \n",
       "21807       1.0  2.390687e+06            NaN  2390687.0  2390687.00   \n",
       "22082       1.0  2.364713e+06            NaN  2364713.0  2364713.00   \n",
       "22196       1.0  2.343299e+06            NaN  2343299.0  2343299.00   \n",
       "22278       1.0  2.289451e+06            NaN  2289451.0  2289451.00   \n",
       "22312       1.0  2.342040e+06            NaN  2342040.0  2342040.00   \n",
       "23138       1.0  7.302740e+05            NaN   730274.0   730274.00   \n",
       "23235       1.0  2.056326e+06            NaN  2056326.0  2056326.00   \n",
       "23990       1.0  2.486673e+06            NaN  2486673.0  2486673.00   \n",
       "24453       1.0  2.391856e+06            NaN  2391856.0  2391856.00   \n",
       "25348       1.0  2.733692e+06            NaN  2733692.0  2733692.00   \n",
       "27039       1.0  2.615014e+06            NaN  2615014.0  2615014.00   \n",
       "27367       1.0  2.386709e+06            NaN  2386709.0  2386709.00   \n",
       "27698       1.0  2.288784e+06            NaN  2288784.0  2288784.00   \n",
       "30762       1.0  2.431251e+06            NaN  2431251.0  2431251.00   \n",
       "33603       1.0  2.343268e+06            NaN  2343268.0  2343268.00   \n",
       "33824       1.0  2.297738e+06            NaN  2297738.0  2297738.00   \n",
       "34006       1.0  2.391812e+06            NaN  2391812.0  2391812.00   \n",
       "34268       1.0  2.620444e+06            NaN  2620444.0  2620444.00   \n",
       "34429       1.0  2.297637e+06            NaN  2297637.0  2297637.00   \n",
       "35675       1.0  1.709691e+06            NaN  1709691.0  1709691.00   \n",
       "37904       1.0  2.449688e+06            NaN  2449688.0  2449688.00   \n",
       "38431       1.0  2.463010e+06            NaN  2463010.0  2463010.00   \n",
       "41850       1.0  2.484545e+06            NaN  2484545.0  2484545.00   \n",
       "44182       1.0  2.620840e+06            NaN  2620840.0  2620840.00   \n",
       "53901       1.0  7.070290e+05            NaN   707029.0   707029.00   \n",
       "\n",
       "                                        ThreadID               ...  P_Day  \\\n",
       "             50%         75%        max    count         mean  ...    75%   \n",
       "len                                                            ...          \n",
       "1      1370868.0  2181271.00  2832449.0     49.0  3829.979592  ...  23.00   \n",
       "2      1505495.0  2357459.75  2834230.0     36.0  3723.805556  ...  22.00   \n",
       "3      1823625.0  2326245.00  2863263.0    136.0  2315.095588  ...  23.00   \n",
       "4      1811771.5  2194218.25  2844992.0     84.0  2865.369048  ...  25.00   \n",
       "5      1929827.0  2396589.00  2874403.0     81.0  2909.395062  ...  23.00   \n",
       "6      1774666.0  2568498.00  2850319.0     79.0  3079.253165  ...  23.00   \n",
       "7      1594414.0  2262263.00  2857247.0     93.0  3225.763441  ...  22.00   \n",
       "8      1800372.0  2249167.00  2833014.0     79.0  2836.075949  ...  22.00   \n",
       "9      1587432.0  2239817.00  2873163.0    129.0  2601.069767  ...  21.00   \n",
       "10     1753978.0  2263959.50  2873752.0    123.0  2893.691057  ...  23.50   \n",
       "11     1406799.0  2121006.50  2868021.0    123.0  3251.195122  ...  22.50   \n",
       "12     1887574.0  2246182.00  2874088.0    138.0  2927.579710  ...  20.00   \n",
       "13     1534771.0  2058108.00  2833619.0    137.0  3138.467153  ...  24.00   \n",
       "14     1642175.0  2215035.00  2866435.0    170.0  2807.564706  ...  21.00   \n",
       "15     1700696.0  2208298.00  2868232.0    149.0  2907.859060  ...  23.00   \n",
       "16     1440163.5  2204312.50  2867562.0    160.0  2818.775000  ...  21.25   \n",
       "17     1701057.0  2152710.00  2863982.0    163.0  2620.030675  ...  24.00   \n",
       "18     1592840.0  2194638.00  2875820.0    161.0  2900.633540  ...  24.00   \n",
       "19     1713817.0  2263313.50  2875613.0    151.0  3086.715232  ...  24.00   \n",
       "20     1273416.0  1983112.50  2869657.0    191.0  3325.340314  ...  22.00   \n",
       "21     1913710.5  2227453.50  2855716.0    134.0  2533.141791  ...  21.00   \n",
       "22     1612806.0  2230040.50  2862303.0    170.0  2944.382353  ...  22.00   \n",
       "23     1589224.0  2195450.00  2858604.0    141.0  3004.517730  ...  24.00   \n",
       "24     1595795.0  2200772.00  2875268.0    182.0  2836.565934  ...  22.75   \n",
       "25     1569301.0  2228839.00  2875339.0    167.0  2945.203593  ...  23.00   \n",
       "26     1588620.0  2232471.00  2873059.0    169.0  3011.059172  ...  25.00   \n",
       "27     1518947.0  2142305.00  2863566.0    173.0  3008.768786  ...  23.00   \n",
       "28     1543028.0  2181103.00  2874506.0    131.0  2807.832061  ...  22.00   \n",
       "29     1702284.0  2204256.00  2873079.0    163.0  2783.116564  ...  24.00   \n",
       "30     1721229.0  2205962.25  2864230.0    178.0  2734.325843  ...  24.00   \n",
       "...          ...         ...        ...      ...          ...  ...    ...   \n",
       "20502  2388041.0  2388041.00  2388041.0      1.0   495.000000  ...  28.00   \n",
       "20823  2528615.0  2528615.00  2528615.0      1.0  1882.000000  ...  30.00   \n",
       "21120  1028021.0  1028021.00  1028021.0      1.0  5447.000000  ...   4.00   \n",
       "21429  2400825.0  2400825.00  2400825.0      1.0  7119.000000  ...   6.00   \n",
       "21703  2396193.0  2396193.00  2396193.0      1.0  7519.000000  ...   3.00   \n",
       "21807  2390687.0  2390687.00  2390687.0      1.0   400.000000  ...  22.00   \n",
       "22082  2364713.0  2364713.00  2364713.0      1.0  1929.000000  ...  30.00   \n",
       "22196  2343299.0  2343299.00  2343299.0      1.0  2798.000000  ...   7.00   \n",
       "22278  2289451.0  2289451.00  2289451.0      1.0  7712.000000  ...  26.00   \n",
       "22312  2342040.0  2342040.00  2342040.0      1.0  2861.000000  ...  12.00   \n",
       "23138   730274.0   730274.00   730274.0      1.0  6288.000000  ...  19.00   \n",
       "23235  2056326.0  2056326.00  2056326.0      1.0   789.000000  ...  27.00   \n",
       "23990  2486673.0  2486673.00  2486673.0      1.0   646.000000  ...   7.00   \n",
       "24453  2391856.0  2391856.00  2391856.0      1.0   185.000000  ...   9.00   \n",
       "25348  2733692.0  2733692.00  2733692.0      1.0  4636.000000  ...  29.00   \n",
       "27039  2615014.0  2615014.00  2615014.0      1.0  2260.000000  ...   5.00   \n",
       "27367  2386709.0  2386709.00  2386709.0      1.0   317.000000  ...   3.00   \n",
       "27698  2288784.0  2288784.00  2288784.0      1.0  7742.000000  ...   6.00   \n",
       "30762  2431251.0  2431251.00  2431251.0      1.0  4297.000000  ...  24.00   \n",
       "33603  2343268.0  2343268.00  2343268.0      1.0  2798.000000  ...   7.00   \n",
       "33824  2297738.0  2297738.00  2297738.0      1.0  6603.000000  ...  31.00   \n",
       "34006  2391812.0  2391812.00  2391812.0      1.0   240.000000  ...  11.00   \n",
       "34268  2620444.0  2620444.00  2620444.0      1.0  2026.000000  ...   5.00   \n",
       "34429  2297637.0  2297637.00  2297637.0      1.0  6603.000000  ...  30.00   \n",
       "35675  1709691.0  1709691.00  1709691.0      1.0  2753.000000  ...   3.00   \n",
       "37904  2449688.0  2449688.00  2449688.0      1.0  4106.000000  ...  20.00   \n",
       "38431  2463010.0  2463010.00  2463010.0      1.0  3729.000000  ...   4.00   \n",
       "41850  2484545.0  2484545.00  2484545.0      1.0  3327.000000  ...  27.00   \n",
       "44182  2620840.0  2620840.00  2620840.0      1.0  2027.000000  ...   5.00   \n",
       "53901   707029.0   707029.00   707029.0      1.0  6439.000000  ...   2.00   \n",
       "\n",
       "            ThreadFirstMessageID                                          \\\n",
       "        max                count          mean            std        min   \n",
       "len                                                                        \n",
       "1      30.0                 49.0  1.505724e+06  675988.032118   360757.0   \n",
       "2      29.0                 36.0  1.628974e+06  849943.451534   360757.0   \n",
       "3      31.0                136.0  1.748913e+06  763330.868104   325913.0   \n",
       "4      31.0                 84.0  1.637742e+06  767428.840691   260687.0   \n",
       "5      31.0                 81.0  1.727311e+06  826318.190177   238767.0   \n",
       "6      31.0                 79.0  1.759555e+06  784010.513603   328808.0   \n",
       "7      31.0                 93.0  1.574694e+06  820322.015044   325913.0   \n",
       "8      31.0                 79.0  1.614459e+06  778150.862902   238767.0   \n",
       "9      31.0                129.0  1.605813e+06  761476.828589   100022.0   \n",
       "10     31.0                123.0  1.717910e+06  752248.052276   195101.0   \n",
       "11     31.0                123.0  1.504623e+06  752918.993667   328808.0   \n",
       "12     31.0                138.0  1.737028e+06  739668.413421   328808.0   \n",
       "13     31.0                137.0  1.533639e+06  775569.887012   113949.0   \n",
       "14     31.0                170.0  1.628013e+06  750389.446487   230904.0   \n",
       "15     31.0                149.0  1.568960e+06  738781.728755    63996.0   \n",
       "16     31.0                160.0  1.495623e+06  787752.911446    70675.0   \n",
       "17     30.0                163.0  1.570988e+06  764523.331761    74286.0   \n",
       "18     31.0                161.0  1.462935e+06  787550.588031   229786.0   \n",
       "19     31.0                151.0  1.636702e+06  763497.807810   325913.0   \n",
       "20     31.0                191.0  1.229911e+06  848053.374128    30900.0   \n",
       "21     31.0                134.0  1.701339e+06  736581.953974   328808.0   \n",
       "22     31.0                170.0  1.616000e+06  805541.211934    74286.0   \n",
       "23     31.0                141.0  1.547355e+06  759517.323008   229786.0   \n",
       "24     31.0                182.0  1.559443e+06  791733.807605   113949.0   \n",
       "25     31.0                167.0  1.584337e+06  761166.039919    74286.0   \n",
       "26     31.0                169.0  1.582985e+06  798863.668125   113949.0   \n",
       "27     31.0                173.0  1.532664e+06  710939.402825   325913.0   \n",
       "28     31.0                131.0  1.543144e+06  798126.596644    70675.0   \n",
       "29     31.0                163.0  1.651794e+06  744041.787562   230904.0   \n",
       "30     31.0                178.0  1.611844e+06  795344.472832   100022.0   \n",
       "...     ...                  ...           ...            ...        ...   \n",
       "20502  28.0                  1.0  2.388041e+06            NaN  2388041.0   \n",
       "20823  30.0                  1.0  2.528268e+06            NaN  2528268.0   \n",
       "21120   4.0                  1.0  1.028021e+06            NaN  1028021.0   \n",
       "21429   6.0                  1.0  2.400598e+06            NaN  2400598.0   \n",
       "21703   3.0                  1.0  2.396193e+06            NaN  2396193.0   \n",
       "21807  22.0                  1.0  2.390687e+06            NaN  2390687.0   \n",
       "22082  30.0                  1.0  2.364713e+06            NaN  2364713.0   \n",
       "22196   7.0                  1.0  2.343268e+06            NaN  2343268.0   \n",
       "22278  26.0                  1.0  2.289451e+06            NaN  2289451.0   \n",
       "22312  12.0                  1.0  2.342040e+06            NaN  2342040.0   \n",
       "23138  19.0                  1.0  7.302740e+05            NaN   730274.0   \n",
       "23235  27.0                  1.0  2.054844e+06            NaN  2054844.0   \n",
       "23990   7.0                  1.0  2.486673e+06            NaN  2486673.0   \n",
       "24453   9.0                  1.0  2.391856e+06            NaN  2391856.0   \n",
       "25348  29.0                  1.0  2.732531e+06            NaN  2732531.0   \n",
       "27039   5.0                  1.0  2.614649e+06            NaN  2614649.0   \n",
       "27367   3.0                  1.0  2.386378e+06            NaN  2386378.0   \n",
       "27698   6.0                  1.0  2.288477e+06            NaN  2288477.0   \n",
       "30762  24.0                  1.0  2.431251e+06            NaN  2431251.0   \n",
       "33603   7.0                  1.0  2.343268e+06            NaN  2343268.0   \n",
       "33824  31.0                  1.0  2.297253e+06            NaN  2297253.0   \n",
       "34006  11.0                  1.0  2.391812e+06            NaN  2391812.0   \n",
       "34268   5.0                  1.0  2.620444e+06            NaN  2620444.0   \n",
       "34429  30.0                  1.0  2.297253e+06            NaN  2297253.0   \n",
       "35675   3.0                  1.0  1.709691e+06            NaN  1709691.0   \n",
       "37904  20.0                  1.0  2.449688e+06            NaN  2449688.0   \n",
       "38431   4.0                  1.0  2.463010e+06            NaN  2463010.0   \n",
       "41850  27.0                  1.0  2.483680e+06            NaN  2483680.0   \n",
       "44182   5.0                  1.0  2.620840e+06            NaN  2620840.0   \n",
       "53901   2.0                  1.0  7.070290e+05            NaN   707029.0   \n",
       "\n",
       "                                                     \n",
       "              25%        50%         75%        max  \n",
       "len                                                  \n",
       "1      1008450.00  1369791.0  2181111.00  2818581.0  \n",
       "2       902132.75  1504887.0  2357361.00  2818581.0  \n",
       "3      1176988.75  1785943.0  2290597.75  2863263.0  \n",
       "4       911492.50  1776743.0  2187451.00  2843960.0  \n",
       "5       872989.00  1912836.0  2396317.00  2874403.0  \n",
       "6       983905.50  1774185.0  2567662.00  2850182.0  \n",
       "7       872989.00  1556082.0  2255937.00  2846078.0  \n",
       "8       872989.00  1774185.0  2248950.00  2818581.0  \n",
       "9      1087193.00  1575682.0  2214682.00  2872949.0  \n",
       "10     1154314.00  1744089.0  2263694.50  2873717.0  \n",
       "11      892821.00  1405884.0  2116091.50  2867257.0  \n",
       "12     1087295.25  1887062.5  2245740.25  2873962.0  \n",
       "13      892821.00  1528090.0  2057953.00  2818581.0  \n",
       "14     1062475.75  1629292.0  2214682.00  2866212.0  \n",
       "15      892821.00  1608285.0  2154881.00  2867257.0  \n",
       "16      862604.00  1427534.5  2159605.75  2867257.0  \n",
       "17      924327.00  1694034.0  2151126.50  2863901.0  \n",
       "18      662467.00  1588399.0  2183828.00  2875788.0  \n",
       "19      950588.50  1692017.0  2259462.50  2875374.0  \n",
       "20      360757.00  1238569.0  1952995.00  2869508.0  \n",
       "21     1157118.75  1912836.0  2227098.50  2855276.0  \n",
       "22      883707.50  1591343.0  2229981.75  2861962.0  \n",
       "23      831449.00  1575682.0  2192567.00  2850499.0  \n",
       "24      846235.50  1558337.0  2178335.25  2874996.0  \n",
       "25      977723.00  1556973.0  2217638.50  2875309.0  \n",
       "26      955117.00  1508601.0  2231714.00  2872949.0  \n",
       "27      955117.00  1498983.0  2132750.00  2796558.0  \n",
       "28      828143.00  1538275.0  2165660.00  2874439.0  \n",
       "29     1056437.00  1701124.0  2204101.00  2872949.0  \n",
       "30      924327.00  1678733.0  2203191.50  2863901.0  \n",
       "...           ...        ...         ...        ...  \n",
       "20502  2388041.00  2388041.0  2388041.00  2388041.0  \n",
       "20823  2528268.00  2528268.0  2528268.00  2528268.0  \n",
       "21120  1028021.00  1028021.0  1028021.00  1028021.0  \n",
       "21429  2400598.00  2400598.0  2400598.00  2400598.0  \n",
       "21703  2396193.00  2396193.0  2396193.00  2396193.0  \n",
       "21807  2390687.00  2390687.0  2390687.00  2390687.0  \n",
       "22082  2364713.00  2364713.0  2364713.00  2364713.0  \n",
       "22196  2343268.00  2343268.0  2343268.00  2343268.0  \n",
       "22278  2289451.00  2289451.0  2289451.00  2289451.0  \n",
       "22312  2342040.00  2342040.0  2342040.00  2342040.0  \n",
       "23138   730274.00   730274.0   730274.00   730274.0  \n",
       "23235  2054844.00  2054844.0  2054844.00  2054844.0  \n",
       "23990  2486673.00  2486673.0  2486673.00  2486673.0  \n",
       "24453  2391856.00  2391856.0  2391856.00  2391856.0  \n",
       "25348  2732531.00  2732531.0  2732531.00  2732531.0  \n",
       "27039  2614649.00  2614649.0  2614649.00  2614649.0  \n",
       "27367  2386378.00  2386378.0  2386378.00  2386378.0  \n",
       "27698  2288477.00  2288477.0  2288477.00  2288477.0  \n",
       "30762  2431251.00  2431251.0  2431251.00  2431251.0  \n",
       "33603  2343268.00  2343268.0  2343268.00  2343268.0  \n",
       "33824  2297253.00  2297253.0  2297253.00  2297253.0  \n",
       "34006  2391812.00  2391812.0  2391812.00  2391812.0  \n",
       "34268  2620444.00  2620444.0  2620444.00  2620444.0  \n",
       "34429  2297253.00  2297253.0  2297253.00  2297253.0  \n",
       "35675  1709691.00  1709691.0  1709691.00  1709691.0  \n",
       "37904  2449688.00  2449688.0  2449688.00  2449688.0  \n",
       "38431  2463010.00  2463010.0  2463010.00  2463010.0  \n",
       "41850  2483680.00  2483680.0  2483680.00  2483680.0  \n",
       "44182  2620840.00  2620840.0  2620840.00  2620840.0  \n",
       "53901   707029.00   707029.0   707029.00   707029.0  \n",
       "\n",
       "[3976 rows x 56 columns]"
      ]
     },
     "execution_count": 4,
     "metadata": {},
     "output_type": "execute_result"
    }
   ],
   "source": [
    "# describing by len\n",
    "df.groupby('len').describe() "
   ]
  },
  {
   "cell_type": "code",
   "execution_count": 4,
   "metadata": {},
   "outputs": [
    {
     "data": {
      "text/plain": [
       "<matplotlib.axes._subplots.AxesSubplot at 0x21c24784e80>"
      ]
     },
     "execution_count": 4,
     "metadata": {},
     "output_type": "execute_result"
    },
    {
     "data": {
      "image/png": "[encoded data removed]",
      "text/plain": [
       "<Figure size 432x288 with 1 Axes>"
      ]
     },
     "metadata": {
      "needs_background": "light"
     },
     "output_type": "display_data"
    }
   ],
   "source": [
    "df['len'].plot(bins=50,kind='hist')\n"
   ]
  },
  {
   "cell_type": "markdown",
   "metadata": {},
   "source": [
    "## checking the most common words in the whole dataset"
   ]
  },
  {
   "cell_type": "code",
   "execution_count": null,
   "metadata": {},
   "outputs": [],
   "source": [
    "!pip install WordCloud"
   ]
  },
  {
   "cell_type": "code",
   "execution_count": 5,
   "metadata": {},
   "outputs": [
    {
     "data": {
      "text/plain": [
       "<matplotlib.image.AxesImage at 0x21c26b37240>"
      ]
     },
     "execution_count": 5,
     "metadata": {},
     "output_type": "execute_result"
    },
    {
     "data": {
      "image/png": "[encoded data removed]",
      "text/plain": [
       "<Figure size 720x720 with 1 Axes>"
      ]
     },
     "metadata": {
      "needs_background": "light"
     },
     "output_type": "display_data"
    }
   ],
   "source": [
    "from wordcloud import WordCloud\n",
    "\n",
    "wordcloud = WordCloud(background_color = 'gray', width = 800, height = 800, max_words = 50).generate(str(df['Message']))\n",
    "\n",
    "plt.rcParams['figure.figsize'] = (10, 10)\n",
    "plt.title('Most Common words in the dataset', fontsize = 20)\n",
    "plt.axis('off')\n",
    "plt.imshow(wordcloud)"
   ]
  },
  {
   "cell_type": "code",
   "execution_count": 6,
   "metadata": {},
   "outputs": [
    {
     "data": {
      "text/plain": [
       "Text(0.5, 1.0, 'Most Frequently Occuring Words - Top 30')"
      ]
     },
     "execution_count": 6,
     "metadata": {},
     "output_type": "execute_result"
    },
    {
     "data": {
      "image/png": "[encoded data removed]",
      "text/plain": [
       "<Figure size 1080x504 with 1 Axes>"
      ]
     },
     "metadata": {
      "needs_background": "light"
     },
     "output_type": "display_data"
    }
   ],
   "source": [
    "from sklearn.feature_extraction.text import CountVectorizer\n",
    "\n",
    "\n",
    "cv = CountVectorizer()\n",
    "words = cv.fit_transform(df.Message)\n",
    "\n",
    "sum_words = words.sum(axis=0)\n",
    "\n",
    "words_freq = [(word, sum_words[0, i]) for word, i in cv.vocabulary_.items()]\n",
    "words_freq = sorted(words_freq, key = lambda x: x[1], reverse = True)\n",
    "\n",
    "frequency = pd.DataFrame(words_freq, columns=['word', 'freq'])\n",
    "\n",
    "frequency.head(30).plot(x='word', y='freq', kind='bar', figsize=(15, 7), color = 'Cyan')\n",
    "plt.title(\"Most Frequently Occuring Words - Top 30\")"
   ]
  },
  {
   "cell_type": "code",
   "execution_count": 7,
   "metadata": {},
   "outputs": [],
   "source": [
    "import nltk\n",
    "from nltk.corpus import stopwords"
   ]
  },
  {
   "cell_type": "code",
   "execution_count": null,
   "metadata": {},
   "outputs": [],
   "source": [
    "!pip install textblob"
   ]
  },
  {
   "cell_type": "code",
   "execution_count": 8,
   "metadata": {},
   "outputs": [],
   "source": [
    "from textblob import TextBlob\n",
    "import pandas as pd\n",
    "import re\n",
    "import textblob"
   ]
  },
  {
   "cell_type": "markdown",
   "metadata": {},
   "source": [
    "### Function to clean text and get sentiments from the text"
   ]
  },
  {
   "cell_type": "code",
   "execution_count": 9,
   "metadata": {},
   "outputs": [],
   "source": [
    "def clean_text(text): \n",
    "        ''' \n",
    "        Utility function to clean text by removing links,\n",
    "        special characters using simple regex statements. \n",
    "        '''\n",
    "        return ' '.join(re.sub(\"(@[A-Za-z0-9]+)|([^0-9A-Za-z \\t])|(\\w+:\\/\\/\\S+)\", \" \", text).split()) \n",
    "\n",
    "def get_text_sentiment(text):\n",
    "    ''' \n",
    "    Utility function to classify sentiment of passed\n",
    "    text using textblob's sentiment method \n",
    "    '''\n",
    "    # create TextBlob object of passed text \n",
    "    analysis = TextBlob(clean_text(text)) \n",
    "    # set sentiment \n",
    "    if analysis.sentiment.polarity > 0: \n",
    "        return 'positive'\n",
    "    elif analysis.sentiment.polarity == 0: \n",
    "        return 'neutral'\n",
    "    else: \n",
    "        return 'negative'    "
   ]
  },
  {
   "cell_type": "code",
   "execution_count": null,
   "metadata": {},
   "outputs": [],
   "source": [
    "##Check the working of the function\n",
    "# BlobText \n",
    "checkOne = \"resolution of tv is not good\"\n",
    "get_text_sentiment(checkOne)"
   ]
  },
  {
   "cell_type": "code",
   "execution_count": 10,
   "metadata": {},
   "outputs": [
    {
     "data": {
      "text/html": [
       "<div>\n",
       "<style scoped>\n",
       "    .dataframe tbody tr th:only-of-type {\n",
       "        vertical-align: middle;\n",
       "    }\n",
       "\n",
       "    .dataframe tbody tr th {\n",
       "        vertical-align: top;\n",
       "    }\n",
       "\n",
       "    .dataframe thead th {\n",
       "        text-align: right;\n",
       "    }\n",
       "</style>\n",
       "<table border=\"1\" class=\"dataframe\">\n",
       "  <thead>\n",
       "    <tr style=\"text-align: right;\">\n",
       "      <th></th>\n",
       "      <th>MessageID</th>\n",
       "      <th>ThreadID</th>\n",
       "      <th>ThreadName</th>\n",
       "      <th>Date_Time</th>\n",
       "      <th>MemberID</th>\n",
       "      <th>MemberName</th>\n",
       "      <th>Message</th>\n",
       "      <th>P_Year</th>\n",
       "      <th>P_Month</th>\n",
       "      <th>P_Day</th>\n",
       "      <th>P_Date</th>\n",
       "      <th>ThreadFirstMessageID</th>\n",
       "      <th>len</th>\n",
       "      <th>Sentiment</th>\n",
       "    </tr>\n",
       "  </thead>\n",
       "  <tbody>\n",
       "    <tr>\n",
       "      <th>0</th>\n",
       "      <td>1000015</td>\n",
       "      <td>5536</td>\n",
       "      <td>Love Animals? Like George Clooney?Are hungry?</td>\n",
       "      <td>2009-03-14 17:32:00</td>\n",
       "      <td>339</td>\n",
       "      <td>Paradox\\t\\t\\t\\t\\t\\t\\t\\t\\t\\t\\t</td>\n",
       "      <td>I don't like celebrity news but this needed to...</td>\n",
       "      <td>2009</td>\n",
       "      <td>3</td>\n",
       "      <td>14</td>\n",
       "      <td>2009-03-14 17:32:00.000</td>\n",
       "      <td>1000015</td>\n",
       "      <td>748</td>\n",
       "      <td>positive</td>\n",
       "    </tr>\n",
       "    <tr>\n",
       "      <th>1</th>\n",
       "      <td>1000038</td>\n",
       "      <td>5536</td>\n",
       "      <td>Love Animals? Like George Clooney?Are hungry?</td>\n",
       "      <td>2009-03-14 18:08:00</td>\n",
       "      <td>240</td>\n",
       "      <td>Filament\\t\\t\\t\\t\\t\\t\\t\\t\\t\\t\\t</td>\n",
       "      <td>Ew! \"Have courage for the great sorrows of lif...</td>\n",
       "      <td>2009</td>\n",
       "      <td>3</td>\n",
       "      <td>14</td>\n",
       "      <td>2009-03-14 18:08:00.000</td>\n",
       "      <td>1000015</td>\n",
       "      <td>191</td>\n",
       "      <td>positive</td>\n",
       "    </tr>\n",
       "    <tr>\n",
       "      <th>2</th>\n",
       "      <td>1000069</td>\n",
       "      <td>5536</td>\n",
       "      <td>Love Animals? Like George Clooney?Are hungry?</td>\n",
       "      <td>2009-03-14 19:15:00</td>\n",
       "      <td>988</td>\n",
       "      <td>~*~JiLk@Y~*~\\t\\t\\t\\t\\t\\t\\t\\t\\t\\t\\t</td>\n",
       "      <td>what? I am a traveler seeking the truth, a hum...</td>\n",
       "      <td>2009</td>\n",
       "      <td>3</td>\n",
       "      <td>14</td>\n",
       "      <td>2009-03-14 19:15:00.000</td>\n",
       "      <td>1000015</td>\n",
       "      <td>490</td>\n",
       "      <td>positive</td>\n",
       "    </tr>\n",
       "    <tr>\n",
       "      <th>3</th>\n",
       "      <td>1000099</td>\n",
       "      <td>5536</td>\n",
       "      <td>Love Animals? Like George Clooney?Are hungry?</td>\n",
       "      <td>2009-03-14 22:15:00</td>\n",
       "      <td>339</td>\n",
       "      <td>Paradox\\t\\t\\t\\t\\t\\t\\t\\t\\t\\t\\t</td>\n",
       "      <td>Well it is as good a time as any to throw the ...</td>\n",
       "      <td>2009</td>\n",
       "      <td>3</td>\n",
       "      <td>14</td>\n",
       "      <td>2009-03-14 22:15:00.000</td>\n",
       "      <td>1000015</td>\n",
       "      <td>359</td>\n",
       "      <td>positive</td>\n",
       "    </tr>\n",
       "    <tr>\n",
       "      <th>4</th>\n",
       "      <td>1000132</td>\n",
       "      <td>5536</td>\n",
       "      <td>Love Animals? Like George Clooney?Are hungry?</td>\n",
       "      <td>2009-03-14 22:38:00</td>\n",
       "      <td>240</td>\n",
       "      <td>Filament\\t\\t\\t\\t\\t\\t\\t\\t\\t\\t\\t</td>\n",
       "      <td>Ew X infinity. \"Have courage for the great sor...</td>\n",
       "      <td>2009</td>\n",
       "      <td>3</td>\n",
       "      <td>14</td>\n",
       "      <td>2009-03-14 22:38:00.000</td>\n",
       "      <td>1000015</td>\n",
       "      <td>202</td>\n",
       "      <td>positive</td>\n",
       "    </tr>\n",
       "  </tbody>\n",
       "</table>\n",
       "</div>"
      ],
      "text/plain": [
       "   MessageID  ThreadID                                     ThreadName  \\\n",
       "0    1000015      5536  Love Animals? Like George Clooney?Are hungry?   \n",
       "1    1000038      5536  Love Animals? Like George Clooney?Are hungry?   \n",
       "2    1000069      5536  Love Animals? Like George Clooney?Are hungry?   \n",
       "3    1000099      5536  Love Animals? Like George Clooney?Are hungry?   \n",
       "4    1000132      5536  Love Animals? Like George Clooney?Are hungry?   \n",
       "\n",
       "             Date_Time  MemberID                          MemberName  \\\n",
       "0  2009-03-14 17:32:00       339       Paradox\\t\\t\\t\\t\\t\\t\\t\\t\\t\\t\\t   \n",
       "1  2009-03-14 18:08:00       240      Filament\\t\\t\\t\\t\\t\\t\\t\\t\\t\\t\\t   \n",
       "2  2009-03-14 19:15:00       988  ~*~JiLk@Y~*~\\t\\t\\t\\t\\t\\t\\t\\t\\t\\t\\t   \n",
       "3  2009-03-14 22:15:00       339       Paradox\\t\\t\\t\\t\\t\\t\\t\\t\\t\\t\\t   \n",
       "4  2009-03-14 22:38:00       240      Filament\\t\\t\\t\\t\\t\\t\\t\\t\\t\\t\\t   \n",
       "\n",
       "                                             Message  P_Year  P_Month  P_Day  \\\n",
       "0  I don't like celebrity news but this needed to...    2009        3     14   \n",
       "1  Ew! \"Have courage for the great sorrows of lif...    2009        3     14   \n",
       "2  what? I am a traveler seeking the truth, a hum...    2009        3     14   \n",
       "3  Well it is as good a time as any to throw the ...    2009        3     14   \n",
       "4  Ew X infinity. \"Have courage for the great sor...    2009        3     14   \n",
       "\n",
       "                    P_Date  ThreadFirstMessageID  len Sentiment  \n",
       "0  2009-03-14 17:32:00.000               1000015  748  positive  \n",
       "1  2009-03-14 18:08:00.000               1000015  191  positive  \n",
       "2  2009-03-14 19:15:00.000               1000015  490  positive  \n",
       "3  2009-03-14 22:15:00.000               1000015  359  positive  \n",
       "4  2009-03-14 22:38:00.000               1000015  202  positive  "
      ]
     },
     "execution_count": 10,
     "metadata": {},
     "output_type": "execute_result"
    }
   ],
   "source": [
    "#subset_sample['Reviews']\n",
    "sentiment = []\n",
    "for message in df['Message']:\n",
    "    sentiment.append(get_text_sentiment(message))\n",
    "    \n",
    "df[\"Sentiment\"] = sentiment\n",
    "df.head()"
   ]
  },
  {
   "cell_type": "code",
   "execution_count": 11,
   "metadata": {},
   "outputs": [],
   "source": [
    "df['Sentiment_label'] = df.Sentiment.map({'positive':1, 'negative':-1,'neutral':0})"
   ]
  },
  {
   "cell_type": "code",
   "execution_count": 12,
   "metadata": {},
   "outputs": [
    {
     "data": {
      "text/html": [
       "<div>\n",
       "<style scoped>\n",
       "    .dataframe tbody tr th:only-of-type {\n",
       "        vertical-align: middle;\n",
       "    }\n",
       "\n",
       "    .dataframe tbody tr th {\n",
       "        vertical-align: top;\n",
       "    }\n",
       "\n",
       "    .dataframe thead tr th {\n",
       "        text-align: left;\n",
       "    }\n",
       "\n",
       "    .dataframe thead tr:last-of-type th {\n",
       "        text-align: right;\n",
       "    }\n",
       "</style>\n",
       "<table border=\"1\" class=\"dataframe\">\n",
       "  <thead>\n",
       "    <tr>\n",
       "      <th></th>\n",
       "      <th colspan=\"8\" halign=\"left\">MessageID</th>\n",
       "      <th colspan=\"2\" halign=\"left\">ThreadID</th>\n",
       "      <th>...</th>\n",
       "      <th colspan=\"2\" halign=\"left\">ThreadFirstMessageID</th>\n",
       "      <th colspan=\"8\" halign=\"left\">len</th>\n",
       "    </tr>\n",
       "    <tr>\n",
       "      <th></th>\n",
       "      <th>count</th>\n",
       "      <th>mean</th>\n",
       "      <th>std</th>\n",
       "      <th>min</th>\n",
       "      <th>25%</th>\n",
       "      <th>50%</th>\n",
       "      <th>75%</th>\n",
       "      <th>max</th>\n",
       "      <th>count</th>\n",
       "      <th>mean</th>\n",
       "      <th>...</th>\n",
       "      <th>75%</th>\n",
       "      <th>max</th>\n",
       "      <th>count</th>\n",
       "      <th>mean</th>\n",
       "      <th>std</th>\n",
       "      <th>min</th>\n",
       "      <th>25%</th>\n",
       "      <th>50%</th>\n",
       "      <th>75%</th>\n",
       "      <th>max</th>\n",
       "    </tr>\n",
       "    <tr>\n",
       "      <th>Sentiment_label</th>\n",
       "      <th></th>\n",
       "      <th></th>\n",
       "      <th></th>\n",
       "      <th></th>\n",
       "      <th></th>\n",
       "      <th></th>\n",
       "      <th></th>\n",
       "      <th></th>\n",
       "      <th></th>\n",
       "      <th></th>\n",
       "      <th></th>\n",
       "      <th></th>\n",
       "      <th></th>\n",
       "      <th></th>\n",
       "      <th></th>\n",
       "      <th></th>\n",
       "      <th></th>\n",
       "      <th></th>\n",
       "      <th></th>\n",
       "      <th></th>\n",
       "      <th></th>\n",
       "    </tr>\n",
       "  </thead>\n",
       "  <tbody>\n",
       "    <tr>\n",
       "      <th>-1</th>\n",
       "      <td>14375.0</td>\n",
       "      <td>1.595836e+06</td>\n",
       "      <td>741657.523544</td>\n",
       "      <td>328271.0</td>\n",
       "      <td>976834.0</td>\n",
       "      <td>1581287.0</td>\n",
       "      <td>2267563.00</td>\n",
       "      <td>2875820.0</td>\n",
       "      <td>14375.0</td>\n",
       "      <td>3297.294052</td>\n",
       "      <td>...</td>\n",
       "      <td>2262016.0</td>\n",
       "      <td>2875788.0</td>\n",
       "      <td>14375.0</td>\n",
       "      <td>451.207165</td>\n",
       "      <td>593.226091</td>\n",
       "      <td>4.0</td>\n",
       "      <td>141.0</td>\n",
       "      <td>276.0</td>\n",
       "      <td>543.0</td>\n",
       "      <td>17410.0</td>\n",
       "    </tr>\n",
       "    <tr>\n",
       "      <th>0</th>\n",
       "      <td>14675.0</td>\n",
       "      <td>1.640134e+06</td>\n",
       "      <td>774340.456023</td>\n",
       "      <td>30900.0</td>\n",
       "      <td>979028.0</td>\n",
       "      <td>1683790.0</td>\n",
       "      <td>2246416.50</td>\n",
       "      <td>2876051.0</td>\n",
       "      <td>14675.0</td>\n",
       "      <td>2989.886951</td>\n",
       "      <td>...</td>\n",
       "      <td>2238498.0</td>\n",
       "      <td>2876051.0</td>\n",
       "      <td>14675.0</td>\n",
       "      <td>131.576763</td>\n",
       "      <td>224.182997</td>\n",
       "      <td>1.0</td>\n",
       "      <td>40.0</td>\n",
       "      <td>87.0</td>\n",
       "      <td>173.0</td>\n",
       "      <td>17537.0</td>\n",
       "    </tr>\n",
       "    <tr>\n",
       "      <th>1</th>\n",
       "      <td>58982.0</td>\n",
       "      <td>1.597440e+06</td>\n",
       "      <td>747607.942775</td>\n",
       "      <td>328391.0</td>\n",
       "      <td>947737.0</td>\n",
       "      <td>1606938.0</td>\n",
       "      <td>2257084.25</td>\n",
       "      <td>2876010.0</td>\n",
       "      <td>58982.0</td>\n",
       "      <td>3288.789563</td>\n",
       "      <td>...</td>\n",
       "      <td>2250218.0</td>\n",
       "      <td>2876010.0</td>\n",
       "      <td>58982.0</td>\n",
       "      <td>610.299227</td>\n",
       "      <td>1162.998222</td>\n",
       "      <td>2.0</td>\n",
       "      <td>185.0</td>\n",
       "      <td>336.0</td>\n",
       "      <td>633.0</td>\n",
       "      <td>53901.0</td>\n",
       "    </tr>\n",
       "  </tbody>\n",
       "</table>\n",
       "<p>3 rows × 64 columns</p>\n",
       "</div>"
      ],
      "text/plain": [
       "                MessageID                                                   \\\n",
       "                    count          mean            std       min       25%   \n",
       "Sentiment_label                                                              \n",
       "-1                14375.0  1.595836e+06  741657.523544  328271.0  976834.0   \n",
       " 0                14675.0  1.640134e+06  774340.456023   30900.0  979028.0   \n",
       " 1                58982.0  1.597440e+06  747607.942775  328391.0  947737.0   \n",
       "\n",
       "                                                  ThreadID               ...  \\\n",
       "                       50%         75%        max    count         mean  ...   \n",
       "Sentiment_label                                                          ...   \n",
       "-1               1581287.0  2267563.00  2875820.0  14375.0  3297.294052  ...   \n",
       " 0               1683790.0  2246416.50  2876051.0  14675.0  2989.886951  ...   \n",
       " 1               1606938.0  2257084.25  2876010.0  58982.0  3288.789563  ...   \n",
       "\n",
       "                ThreadFirstMessageID                 len              \\\n",
       "                                 75%        max    count        mean   \n",
       "Sentiment_label                                                        \n",
       "-1                         2262016.0  2875788.0  14375.0  451.207165   \n",
       " 0                         2238498.0  2876051.0  14675.0  131.576763   \n",
       " 1                         2250218.0  2876010.0  58982.0  610.299227   \n",
       "\n",
       "                                                                 \n",
       "                         std  min    25%    50%    75%      max  \n",
       "Sentiment_label                                                  \n",
       "-1                593.226091  4.0  141.0  276.0  543.0  17410.0  \n",
       " 0                224.182997  1.0   40.0   87.0  173.0  17537.0  \n",
       " 1               1162.998222  2.0  185.0  336.0  633.0  53901.0  \n",
       "\n",
       "[3 rows x 64 columns]"
      ]
     },
     "execution_count": 12,
     "metadata": {},
     "output_type": "execute_result"
    }
   ],
   "source": [
    "# describing by labels\n",
    "\n",
    "df.groupby('Sentiment_label').describe()"
   ]
  },
  {
   "cell_type": "code",
   "execution_count": null,
   "metadata": {},
   "outputs": [],
   "source": [
    "df.head()"
   ]
  },
  {
   "cell_type": "markdown",
   "metadata": {},
   "source": [
    "## relation between spam messages and length"
   ]
  },
  {
   "cell_type": "code",
   "execution_count": 13,
   "metadata": {},
   "outputs": [
    {
     "data": {
      "image/png": "[encoded data removed]",
      "text/plain": [
       "<Figure size 720x576 with 1 Axes>"
      ]
     },
     "metadata": {
      "needs_background": "light"
     },
     "output_type": "display_data"
    }
   ],
   "source": [
    "plt.rcParams['figure.figsize'] = (10, 8)\n",
    "sns.boxenplot(x = df['Sentiment_label'], y = df['len'])\n",
    "plt.title('Relation between Messages and Length', fontsize = 25)\n",
    "plt.show()"
   ]
  },
  {
   "cell_type": "code",
   "execution_count": 14,
   "metadata": {},
   "outputs": [
    {
     "data": {
      "text/plain": [
       "<matplotlib.axes._subplots.AxesSubplot at 0x21c2d09f5f8>"
      ]
     },
     "execution_count": 14,
     "metadata": {},
     "output_type": "execute_result"
    },
    {
     "data": {
      "image/png": "[encoded data removed]",
      "text/plain": [
       "<Figure size 720x576 with 1 Axes>"
      ]
     },
     "metadata": {},
     "output_type": "display_data"
    }
   ],
   "source": [
    "sns.set(style=\"darkgrid\")\n",
    "plt.title('# of Poositive vs Negative & Neutral')\n",
    "sns.countplot(df['Sentiment_label'])"
   ]
  },
  {
   "cell_type": "markdown",
   "metadata": {},
   "source": [
    " ### Now lets try to find some distinguishing feature between the messages of two sets of labels - possitive and negative"
   ]
  },
  {
   "cell_type": "code",
   "execution_count": 15,
   "metadata": {},
   "outputs": [
    {
     "data": {
      "text/plain": [
       "array([[<matplotlib.axes._subplots.AxesSubplot object at 0x0000021C2D099908>,\n",
       "        <matplotlib.axes._subplots.AxesSubplot object at 0x0000021C2D05DC50>],\n",
       "       [<matplotlib.axes._subplots.AxesSubplot object at 0x0000021C2D0BD400>,\n",
       "        <matplotlib.axes._subplots.AxesSubplot object at 0x0000021C2D0201D0>]],\n",
       "      dtype=object)"
      ]
     },
     "execution_count": 15,
     "metadata": {},
     "output_type": "execute_result"
    },
    {
     "data": {
      "image/png": "[encoded data removed]",
      "text/plain": [
       "<Figure size 864x504 with 4 Axes>"
      ]
     },
     "metadata": {},
     "output_type": "display_data"
    }
   ],
   "source": [
    "df.hist(column='len',by='Sentiment_label',bins=50,figsize=(12,7))"
   ]
  },
  {
   "cell_type": "code",
   "execution_count": 18,
   "metadata": {},
   "outputs": [
    {
     "data": {
      "image/png": "[encoded data removed]",
      "text/plain": [
       "<Figure size 720x576 with 1 Axes>"
      ]
     },
     "metadata": {},
     "output_type": "display_data"
    }
   ],
   "source": [
    "size = [4825, 747]\n",
    "labels = ['positive', 'negative']\n",
    "colors = ['Cyan', 'lightblue']\n",
    "\n",
    "plt.pie(size, colors = colors, labels = labels, shadow = True, autopct = '%.2f%%')\n",
    "plt.axis('off')\n",
    "plt.title('Pie Chart for Labels', fontsize = 20)\n",
    "plt.legend()\n",
    "plt.show()"
   ]
  },
  {
   "cell_type": "markdown",
   "metadata": {},
   "source": [
    "## checking the most common words in negative messages"
   ]
  },
  {
   "cell_type": "code",
   "execution_count": 19,
   "metadata": {},
   "outputs": [
    {
     "data": {
      "text/plain": [
       "<matplotlib.image.AxesImage at 0x21c2f1fa588>"
      ]
     },
     "execution_count": 19,
     "metadata": {},
     "output_type": "execute_result"
    },
    {
     "data": {
      "image/png": "[encoded data removed]",
      "text/plain": [
       "<Figure size 720x720 with 1 Axes>"
      ]
     },
     "metadata": {},
     "output_type": "display_data"
    }
   ],
   "source": [
    "negative = ' '.join(text for text in df['Message'][df['Sentiment_label'] == 0])\n",
    "\n",
    "wordcloud = WordCloud(background_color = 'pink', max_words = 50, height = 1000, width = 1000).generate(negative)\n",
    "\n",
    "plt.rcParams['figure.figsize'] = (10, 10)\n",
    "plt.axis('off')\n",
    "plt.title('Most Common Words in Negative Messages', fontsize = 20)\n",
    "plt.imshow(wordcloud)"
   ]
  },
  {
   "cell_type": "markdown",
   "metadata": {},
   "source": [
    "### checking the most common words in possitive messages"
   ]
  },
  {
   "cell_type": "code",
   "execution_count": 20,
   "metadata": {},
   "outputs": [
    {
     "data": {
      "text/plain": [
       "<matplotlib.image.AxesImage at 0x21c2f043b70>"
      ]
     },
     "execution_count": 20,
     "metadata": {},
     "output_type": "execute_result"
    },
    {
     "data": {
      "image/png": "[encoded data removed]",
      "text/plain": [
       "<Figure size 720x720 with 1 Axes>"
      ]
     },
     "metadata": {},
     "output_type": "display_data"
    }
   ],
   "source": [
    "positive = ' '.join(text for text in df['Message'][df['Sentiment_label'] == 1])\n",
    "\n",
    "wordcloud = WordCloud(background_color = 'purple', max_words = 50, height = 1000, width = 1000).generate(positive)\n",
    "\n",
    "plt.rcParams['figure.figsize'] = (10, 10)\n",
    "plt.axis('off')\n",
    "plt.title('Most Common Words in possitive Messages', fontsize = 20)\n",
    "plt.imshow(wordcloud)"
   ]
  },
  {
   "cell_type": "code",
   "execution_count": 26,
   "metadata": {},
   "outputs": [
    {
     "data": {
      "text/plain": [
       "MessageID               0\n",
       "ThreadID                0\n",
       "ThreadName              0\n",
       "Date_Time               0\n",
       "MemberID                0\n",
       "MemberName              0\n",
       "Message                 0\n",
       "P_Year                  0\n",
       "P_Month                 0\n",
       "P_Day                   0\n",
       "P_Date                  0\n",
       "ThreadFirstMessageID    0\n",
       "len                     0\n",
       "Sentiment               0\n",
       "Sentiment_label         0\n",
       "dtype: int64"
      ]
     },
     "execution_count": 26,
     "metadata": {},
     "output_type": "execute_result"
    }
   ],
   "source": [
    "## data cleaning\n",
    "df.isnull().sum() ##our data has no missing values"
   ]
  },
  {
   "cell_type": "markdown",
   "metadata": {},
   "source": [
    "#### Changing into lower letters"
   ]
  },
  {
   "cell_type": "code",
   "execution_count": 27,
   "metadata": {},
   "outputs": [
    {
     "ename": "AttributeError",
     "evalue": "'list' object has no attribute 'lower'",
     "output_type": "error",
     "traceback": [
      "\u001b[1;31m---------------------------------------------------------------------------\u001b[0m",
      "\u001b[1;31mAttributeError\u001b[0m                            Traceback (most recent call last)",
      "\u001b[1;32m<ipython-input-27-fd9a90cfb2ed>\u001b[0m in \u001b[0;36m<module>\u001b[1;34m\u001b[0m\n\u001b[1;32m----> 1\u001b[1;33m \u001b[0mdf\u001b[0m\u001b[1;33m[\u001b[0m\u001b[1;34m'Message'\u001b[0m\u001b[1;33m]\u001b[0m \u001b[1;33m=\u001b[0m \u001b[1;33m[\u001b[0m\u001b[0mentry\u001b[0m\u001b[1;33m.\u001b[0m\u001b[0mlower\u001b[0m\u001b[1;33m(\u001b[0m\u001b[1;33m)\u001b[0m \u001b[1;32mfor\u001b[0m \u001b[0mentry\u001b[0m \u001b[1;32min\u001b[0m \u001b[0mdf\u001b[0m\u001b[1;33m[\u001b[0m\u001b[1;34m'Message'\u001b[0m\u001b[1;33m]\u001b[0m\u001b[1;33m]\u001b[0m\u001b[1;33m\u001b[0m\u001b[1;33m\u001b[0m\u001b[0m\n\u001b[0m\u001b[0;32m      2\u001b[0m \u001b[0mdf\u001b[0m\u001b[1;33m.\u001b[0m\u001b[0mhead\u001b[0m\u001b[1;33m(\u001b[0m\u001b[1;33m)\u001b[0m\u001b[1;33m\u001b[0m\u001b[1;33m\u001b[0m\u001b[0m\n",
      "\u001b[1;32m<ipython-input-27-fd9a90cfb2ed>\u001b[0m in \u001b[0;36m<listcomp>\u001b[1;34m(.0)\u001b[0m\n\u001b[1;32m----> 1\u001b[1;33m \u001b[0mdf\u001b[0m\u001b[1;33m[\u001b[0m\u001b[1;34m'Message'\u001b[0m\u001b[1;33m]\u001b[0m \u001b[1;33m=\u001b[0m \u001b[1;33m[\u001b[0m\u001b[0mentry\u001b[0m\u001b[1;33m.\u001b[0m\u001b[0mlower\u001b[0m\u001b[1;33m(\u001b[0m\u001b[1;33m)\u001b[0m \u001b[1;32mfor\u001b[0m \u001b[0mentry\u001b[0m \u001b[1;32min\u001b[0m \u001b[0mdf\u001b[0m\u001b[1;33m[\u001b[0m\u001b[1;34m'Message'\u001b[0m\u001b[1;33m]\u001b[0m\u001b[1;33m]\u001b[0m\u001b[1;33m\u001b[0m\u001b[1;33m\u001b[0m\u001b[0m\n\u001b[0m\u001b[0;32m      2\u001b[0m \u001b[0mdf\u001b[0m\u001b[1;33m.\u001b[0m\u001b[0mhead\u001b[0m\u001b[1;33m(\u001b[0m\u001b[1;33m)\u001b[0m\u001b[1;33m\u001b[0m\u001b[1;33m\u001b[0m\u001b[0m\n",
      "\u001b[1;31mAttributeError\u001b[0m: 'list' object has no attribute 'lower'"
     ]
    }
   ],
   "source": [
    "df['Message'] = [entry.lower() for entry in df['Message']]\n",
    "df.head()"
   ]
  },
  {
   "cell_type": "markdown",
   "metadata": {},
   "source": [
    "#### Removing punctation and doing word tokeninzer of content column"
   ]
  },
  {
   "cell_type": "code",
   "execution_count": 28,
   "metadata": {},
   "outputs": [
    {
     "ename": "TypeError",
     "evalue": "expected string or bytes-like object",
     "output_type": "error",
     "traceback": [
      "\u001b[1;31m---------------------------------------------------------------------------\u001b[0m",
      "\u001b[1;31mTypeError\u001b[0m                                 Traceback (most recent call last)",
      "\u001b[1;32m<ipython-input-28-54d396a7d832>\u001b[0m in \u001b[0;36m<module>\u001b[1;34m\u001b[0m\n\u001b[0;32m      1\u001b[0m \u001b[1;32mfrom\u001b[0m \u001b[0mnltk\u001b[0m\u001b[1;33m.\u001b[0m\u001b[0mtokenize\u001b[0m \u001b[1;32mimport\u001b[0m \u001b[0mRegexpTokenizer\u001b[0m\u001b[1;33m\u001b[0m\u001b[1;33m\u001b[0m\u001b[0m\n\u001b[0;32m      2\u001b[0m \u001b[0mtokenizer\u001b[0m \u001b[1;33m=\u001b[0m \u001b[0mRegexpTokenizer\u001b[0m\u001b[1;33m(\u001b[0m\u001b[1;34mr'\\w+'\u001b[0m\u001b[1;33m)\u001b[0m\u001b[1;33m\u001b[0m\u001b[1;33m\u001b[0m\u001b[0m\n\u001b[1;32m----> 3\u001b[1;33m \u001b[0mdf\u001b[0m\u001b[1;33m[\u001b[0m\u001b[1;34m'Message'\u001b[0m\u001b[1;33m]\u001b[0m\u001b[1;33m=\u001b[0m \u001b[1;33m[\u001b[0m\u001b[0mtokenizer\u001b[0m\u001b[1;33m.\u001b[0m\u001b[0mtokenize\u001b[0m\u001b[1;33m(\u001b[0m\u001b[0mentry\u001b[0m\u001b[1;33m)\u001b[0m \u001b[1;32mfor\u001b[0m \u001b[0mentry\u001b[0m \u001b[1;32min\u001b[0m \u001b[0mdf\u001b[0m\u001b[1;33m[\u001b[0m\u001b[1;34m'Message'\u001b[0m\u001b[1;33m]\u001b[0m\u001b[1;33m]\u001b[0m\u001b[1;33m\u001b[0m\u001b[1;33m\u001b[0m\u001b[0m\n\u001b[0m",
      "\u001b[1;32m<ipython-input-28-54d396a7d832>\u001b[0m in \u001b[0;36m<listcomp>\u001b[1;34m(.0)\u001b[0m\n\u001b[0;32m      1\u001b[0m \u001b[1;32mfrom\u001b[0m \u001b[0mnltk\u001b[0m\u001b[1;33m.\u001b[0m\u001b[0mtokenize\u001b[0m \u001b[1;32mimport\u001b[0m \u001b[0mRegexpTokenizer\u001b[0m\u001b[1;33m\u001b[0m\u001b[1;33m\u001b[0m\u001b[0m\n\u001b[0;32m      2\u001b[0m \u001b[0mtokenizer\u001b[0m \u001b[1;33m=\u001b[0m \u001b[0mRegexpTokenizer\u001b[0m\u001b[1;33m(\u001b[0m\u001b[1;34mr'\\w+'\u001b[0m\u001b[1;33m)\u001b[0m\u001b[1;33m\u001b[0m\u001b[1;33m\u001b[0m\u001b[0m\n\u001b[1;32m----> 3\u001b[1;33m \u001b[0mdf\u001b[0m\u001b[1;33m[\u001b[0m\u001b[1;34m'Message'\u001b[0m\u001b[1;33m]\u001b[0m\u001b[1;33m=\u001b[0m \u001b[1;33m[\u001b[0m\u001b[0mtokenizer\u001b[0m\u001b[1;33m.\u001b[0m\u001b[0mtokenize\u001b[0m\u001b[1;33m(\u001b[0m\u001b[0mentry\u001b[0m\u001b[1;33m)\u001b[0m \u001b[1;32mfor\u001b[0m \u001b[0mentry\u001b[0m \u001b[1;32min\u001b[0m \u001b[0mdf\u001b[0m\u001b[1;33m[\u001b[0m\u001b[1;34m'Message'\u001b[0m\u001b[1;33m]\u001b[0m\u001b[1;33m]\u001b[0m\u001b[1;33m\u001b[0m\u001b[1;33m\u001b[0m\u001b[0m\n\u001b[0m",
      "\u001b[1;32mC:\\Apps\\lib\\site-packages\\nltk\\tokenize\\regexp.py\u001b[0m in \u001b[0;36mtokenize\u001b[1;34m(self, text)\u001b[0m\n\u001b[0;32m    134\u001b[0m         \u001b[1;31m# If our regexp matches tokens, use re.findall:\u001b[0m\u001b[1;33m\u001b[0m\u001b[1;33m\u001b[0m\u001b[1;33m\u001b[0m\u001b[0m\n\u001b[0;32m    135\u001b[0m         \u001b[1;32melse\u001b[0m\u001b[1;33m:\u001b[0m\u001b[1;33m\u001b[0m\u001b[1;33m\u001b[0m\u001b[0m\n\u001b[1;32m--> 136\u001b[1;33m             \u001b[1;32mreturn\u001b[0m \u001b[0mself\u001b[0m\u001b[1;33m.\u001b[0m\u001b[0m_regexp\u001b[0m\u001b[1;33m.\u001b[0m\u001b[0mfindall\u001b[0m\u001b[1;33m(\u001b[0m\u001b[0mtext\u001b[0m\u001b[1;33m)\u001b[0m\u001b[1;33m\u001b[0m\u001b[1;33m\u001b[0m\u001b[0m\n\u001b[0m\u001b[0;32m    137\u001b[0m \u001b[1;33m\u001b[0m\u001b[0m\n\u001b[0;32m    138\u001b[0m     \u001b[1;32mdef\u001b[0m \u001b[0mspan_tokenize\u001b[0m\u001b[1;33m(\u001b[0m\u001b[0mself\u001b[0m\u001b[1;33m,\u001b[0m \u001b[0mtext\u001b[0m\u001b[1;33m)\u001b[0m\u001b[1;33m:\u001b[0m\u001b[1;33m\u001b[0m\u001b[1;33m\u001b[0m\u001b[0m\n",
      "\u001b[1;31mTypeError\u001b[0m: expected string or bytes-like object"
     ]
    }
   ],
   "source": [
    "from nltk.tokenize import RegexpTokenizer\n",
    "tokenizer = RegexpTokenizer(r'\\w+')\n",
    "df['Message']= [tokenizer.tokenize(entry) for entry in df['Message']]\n"
   ]
  },
  {
   "cell_type": "code",
   "execution_count": null,
   "metadata": {},
   "outputs": [],
   "source": [
    "df.head()"
   ]
  },
  {
   "cell_type": "code",
   "execution_count": 29,
   "metadata": {},
   "outputs": [],
   "source": [
    "df['Message']=[\" \".join(Message) for Message in df['Message'].values]"
   ]
  },
  {
   "cell_type": "code",
   "execution_count": 30,
   "metadata": {},
   "outputs": [
    {
     "data": {
      "text/plain": [
       "0    i don t like celebrity news but this needed to...\n",
       "1    ew have courage for the great sorrows of life ...\n",
       "2    what i am a traveler seeking the truth a human...\n",
       "3    well it is as good a time as any to throw the ...\n",
       "4    ew x infinity have courage for the great sorro...\n",
       "Name: Message, dtype: object"
      ]
     },
     "execution_count": 30,
     "metadata": {},
     "output_type": "execute_result"
    }
   ],
   "source": [
    "df['Message'].head()"
   ]
  },
  {
   "cell_type": "markdown",
   "metadata": {},
   "source": [
    " #### Removing stopwords"
   ]
  },
  {
   "cell_type": "code",
   "execution_count": 31,
   "metadata": {},
   "outputs": [],
   "source": [
    "from nltk.corpus import stopwords\n",
    "stop = stopwords.words('english')"
   ]
  },
  {
   "cell_type": "code",
   "execution_count": null,
   "metadata": {},
   "outputs": [],
   "source": [
    "#df['Message'] = [w for w in df['Message'] if not w in stop]\n",
    "df.head(2)"
   ]
  },
  {
   "cell_type": "code",
   "execution_count": 114,
   "metadata": {},
   "outputs": [],
   "source": [
    "from sklearn.feature_extraction.text import TfidfVectorizer\n",
    "from sklearn import model_selection, naive_bayes, svm\n",
    "from sklearn import metrics\n",
    "from sklearn.metrics import accuracy_score,confusion_matrix,classification_report"
   ]
  },
  {
   "cell_type": "code",
   "execution_count": 33,
   "metadata": {},
   "outputs": [],
   "source": [
    "Y=df[\"Sentiment_label\"]"
   ]
  },
  {
   "cell_type": "markdown",
   "metadata": {},
   "source": [
    "### Step 3.1: Training and testing sets ###\n",
    "\n",
    "Now that we have understood how to deal with the Bag of Words problem we can get back to our dataset and proceed with our analysis. Our first step in this regard would be to split our dataset into a training and testing set so we can test our model later."
   ]
  },
  {
   "cell_type": "code",
   "execution_count": 34,
   "metadata": {},
   "outputs": [],
   "source": [
    "Train_X, Test_X, Train_Y, Test_Y = model_selection.train_test_split(df['Message'],Y,test_size=0.3)"
   ]
  },
  {
   "cell_type": "code",
   "execution_count": 35,
   "metadata": {},
   "outputs": [
    {
     "name": "stdout",
     "output_type": "stream",
     "text": [
      "(61622,) (26410,) (61622,) (26410,)\n"
     ]
    }
   ],
   "source": [
    "print(Train_X.shape,Test_X.shape,Train_Y.shape,Test_Y.shape)"
   ]
  },
  {
   "cell_type": "code",
   "execution_count": 36,
   "metadata": {},
   "outputs": [],
   "source": [
    "Tfidf_vect = TfidfVectorizer(stop_words='english')\n",
    "Train_X_Tfidf = Tfidf_vect.fit_transform(Train_X)\n",
    "Test_X_Tfidf = Tfidf_vect.transform(Test_X)"
   ]
  },
  {
   "cell_type": "markdown",
   "metadata": {},
   "source": [
    "#### Applying CountVectorizer"
   ]
  },
  {
   "cell_type": "code",
   "execution_count": 37,
   "metadata": {},
   "outputs": [
    {
     "name": "stdout",
     "output_type": "stream",
     "text": [
      "CountVectorizer(analyzer='word', binary=False, decode_error='strict',\n",
      "        dtype=<class 'numpy.int64'>, encoding='utf-8', input='content',\n",
      "        lowercase=True, max_df=1.0, max_features=None, min_df=1,\n",
      "        ngram_range=(1, 1), preprocessor=None, stop_words='english',\n",
      "        strip_accents=None, token_pattern='(?u)\\\\b\\\\w\\\\w+\\\\b',\n",
      "        tokenizer=None, vocabulary=None)\n"
     ]
    }
   ],
   "source": [
    "from sklearn.feature_extraction.text import CountVectorizer\n",
    "count_vectorizer = CountVectorizer(stop_words='english')\n",
    "print(count_vectorizer)"
   ]
  },
  {
   "cell_type": "code",
   "execution_count": 38,
   "metadata": {},
   "outputs": [],
   "source": [
    "# Fit and transform the training data \n",
    "count_train = count_vectorizer.fit_transform(Train_X) "
   ]
  },
  {
   "cell_type": "code",
   "execution_count": 39,
   "metadata": {},
   "outputs": [],
   "source": [
    "# Transform the test set \n",
    "count_test = count_vectorizer.transform(Test_X)"
   ]
  },
  {
   "cell_type": "code",
   "execution_count": 40,
   "metadata": {},
   "outputs": [],
   "source": [
    "from sklearn.feature_extraction.text import CountVectorizer\n",
    "count_vectorizer = CountVectorizer(stop_words='english')\n",
    "\n",
    "# Fit and transform the training data \n",
    "count_train = count_vectorizer.fit_transform(Train_X) \n",
    "\n",
    "# Transform the test set \n",
    "count_test = count_vectorizer.transform(Test_X)"
   ]
  },
  {
   "cell_type": "code",
   "execution_count": 41,
   "metadata": {},
   "outputs": [
    {
     "name": "stdout",
     "output_type": "stream",
     "text": [
      "(61622, 118077) (26410, 118077) (61622, 118077) (26410, 118077)\n"
     ]
    }
   ],
   "source": [
    "print(Train_X_Tfidf.shape,Test_X_Tfidf.shape,count_train.shape,count_test.shape)"
   ]
  },
  {
   "cell_type": "code",
   "execution_count": 42,
   "metadata": {},
   "outputs": [
    {
     "data": {
      "text/plain": [
       "MultinomialNB(alpha=1.0, class_prior=None, fit_prior=True)"
      ]
     },
     "execution_count": 42,
     "metadata": {},
     "output_type": "execute_result"
    }
   ],
   "source": [
    "Naive = naive_bayes.MultinomialNB()\n",
    "Naive.fit(Train_X_Tfidf,Train_Y)"
   ]
  },
  {
   "cell_type": "code",
   "execution_count": 43,
   "metadata": {},
   "outputs": [],
   "source": [
    "predictions_NB = Naive.predict(Test_X_Tfidf)"
   ]
  },
  {
   "cell_type": "code",
   "execution_count": 44,
   "metadata": {},
   "outputs": [
    {
     "name": "stdout",
     "output_type": "stream",
     "text": [
      "Naive Bayes Accuracy Score ->  68.64066641423703\n"
     ]
    }
   ],
   "source": [
    "print(\"Naive Bayes Accuracy Score -> \",accuracy_score(predictions_NB, Test_Y)*100)"
   ]
  },
  {
   "cell_type": "code",
   "execution_count": 45,
   "metadata": {},
   "outputs": [
    {
     "name": "stdout",
     "output_type": "stream",
     "text": [
      "              precision    recall  f1-score   support\n",
      "\n",
      "          -1       0.81      0.01      0.01      4346\n",
      "           0       0.66      0.15      0.24      4357\n",
      "           1       0.69      0.99      0.81     17707\n",
      "\n",
      "   micro avg       0.69      0.69      0.69     26410\n",
      "   macro avg       0.72      0.38      0.35     26410\n",
      "weighted avg       0.70      0.69      0.58     26410\n",
      "\n"
     ]
    }
   ],
   "source": [
    "print(classification_report(Test_Y, predictions_NB))"
   ]
  },
  {
   "cell_type": "code",
   "execution_count": 46,
   "metadata": {},
   "outputs": [
    {
     "data": {
      "text/plain": [
       "array([[   22,    93,  4231],\n",
       "       [    2,   640,  3715],\n",
       "       [    3,   238, 17466]], dtype=int64)"
      ]
     },
     "execution_count": 46,
     "metadata": {},
     "output_type": "execute_result"
    }
   ],
   "source": [
    "confusion_matrix(Test_Y, predictions_NB)"
   ]
  },
  {
   "cell_type": "code",
   "execution_count": 47,
   "metadata": {},
   "outputs": [
    {
     "name": "stdout",
     "output_type": "stream",
     "text": [
      "Naive Bayes Accuracy Score ->  71.73419159409315\n"
     ]
    }
   ],
   "source": [
    "Naive = naive_bayes.MultinomialNB()\n",
    "Naive.fit(count_train,Train_Y)\n",
    "predictions1_NB = Naive.predict(count_test)\n",
    "print(\"Naive Bayes Accuracy Score -> \",accuracy_score(predictions1_NB, Test_Y)*100)"
   ]
  },
  {
   "cell_type": "code",
   "execution_count": 48,
   "metadata": {},
   "outputs": [
    {
     "name": "stdout",
     "output_type": "stream",
     "text": [
      "              precision    recall  f1-score   support\n",
      "\n",
      "          -1       0.56      0.38      0.46      4346\n",
      "           0       0.53      0.43      0.48      4357\n",
      "           1       0.77      0.87      0.82     17707\n",
      "\n",
      "   micro avg       0.72      0.72      0.72     26410\n",
      "   macro avg       0.62      0.56      0.58     26410\n",
      "weighted avg       0.70      0.72      0.70     26410\n",
      "\n"
     ]
    }
   ],
   "source": [
    "print(classification_report(Test_Y, predictions1_NB))"
   ]
  },
  {
   "cell_type": "code",
   "execution_count": 49,
   "metadata": {},
   "outputs": [
    {
     "data": {
      "text/plain": [
       "array([[ 1672,   323,  2351],\n",
       "       [  323,  1893,  2141],\n",
       "       [  985,  1342, 15380]], dtype=int64)"
      ]
     },
     "execution_count": 49,
     "metadata": {},
     "output_type": "execute_result"
    }
   ],
   "source": [
    "confusion_matrix(Test_Y, predictions1_NB)"
   ]
  },
  {
   "cell_type": "markdown",
   "metadata": {},
   "source": [
    "#### SVM on count vecotizer data"
   ]
  },
  {
   "cell_type": "code",
   "execution_count": null,
   "metadata": {},
   "outputs": [],
   "source": [
    "SVM = svm.SVC(C=1.0, kernel='linear', degree=3, gamma='auto')\n",
    "SVM.fit(count_train,Train_Y)"
   ]
  },
  {
   "cell_type": "code",
   "execution_count": null,
   "metadata": {},
   "outputs": [],
   "source": [
    "predictions_SVM = SVM.predict(count_test)\n",
    "\n",
    "print(\"SVM Accuracy Score -> \",accuracy_score(predictions_SVM, Test_Y)*100)"
   ]
  },
  {
   "cell_type": "code",
   "execution_count": null,
   "metadata": {},
   "outputs": [],
   "source": [
    "print(classification_report(Test_Y, predictions_SVM))"
   ]
  },
  {
   "cell_type": "code",
   "execution_count": null,
   "metadata": {},
   "outputs": [],
   "source": [
    "confusion_matrix(Test_Y, predictions_SVM)"
   ]
  },
  {
   "cell_type": "markdown",
   "metadata": {},
   "source": [
    "#### SVM on TFIDF vecotizer data"
   ]
  },
  {
   "cell_type": "code",
   "execution_count": null,
   "metadata": {},
   "outputs": [],
   "source": [
    "SVM1 = svm.SVC(C=1.0, kernel='linear', degree=3, gamma='auto')\n",
    "SVM1.fit(Train_X_Tfidf,Train_Y)"
   ]
  },
  {
   "cell_type": "code",
   "execution_count": null,
   "metadata": {},
   "outputs": [],
   "source": [
    "predictions_SVM1= SVM1.predict(Test_X_Tfidf)\n",
    "\n",
    "print(\"SVM Accuracy Score -> \",accuracy_score(predictions_SVM1, Test_Y)*100)"
   ]
  },
  {
   "cell_type": "code",
   "execution_count": null,
   "metadata": {},
   "outputs": [],
   "source": [
    "print(classification_report(Test_Y, predictions_SVM1))"
   ]
  },
  {
   "cell_type": "code",
   "execution_count": null,
   "metadata": {},
   "outputs": [],
   "source": [
    "confusion_matrix(Test_Y, predictions_SVM1)"
   ]
  },
  {
   "cell_type": "markdown",
   "metadata": {},
   "source": [
    "#### Random Forest model on count vecotizer data\n"
   ]
  },
  {
   "cell_type": "code",
   "execution_count": 50,
   "metadata": {},
   "outputs": [
    {
     "data": {
      "text/plain": [
       "RandomForestClassifier(bootstrap=True, class_weight=None, criterion='gini',\n",
       "            max_depth=2, max_features='auto', max_leaf_nodes=None,\n",
       "            min_impurity_decrease=0.0, min_impurity_split=None,\n",
       "            min_samples_leaf=1, min_samples_split=2,\n",
       "            min_weight_fraction_leaf=0.0, n_estimators=100, n_jobs=None,\n",
       "            oob_score=False, random_state=0, verbose=0, warm_start=False)"
      ]
     },
     "execution_count": 50,
     "metadata": {},
     "output_type": "execute_result"
    }
   ],
   "source": [
    "from sklearn.ensemble import RandomForestClassifier\n",
    "rf= RandomForestClassifier(n_estimators=100, max_depth=2,random_state=0)\n",
    "rf.fit(count_train,Train_Y)"
   ]
  },
  {
   "cell_type": "code",
   "execution_count": 51,
   "metadata": {},
   "outputs": [
    {
     "name": "stdout",
     "output_type": "stream",
     "text": [
      "Random Forest Accuracy Score ->  67.04657326770163\n"
     ]
    }
   ],
   "source": [
    "predictions_rf = rf.predict(count_test)\n",
    "\n",
    "print(\"Random Forest Accuracy Score -> \",accuracy_score(predictions_rf, Test_Y)*100)"
   ]
  },
  {
   "cell_type": "code",
   "execution_count": 52,
   "metadata": {},
   "outputs": [
    {
     "name": "stdout",
     "output_type": "stream",
     "text": [
      "              precision    recall  f1-score   support\n",
      "\n",
      "          -1       0.00      0.00      0.00      4346\n",
      "           0       0.00      0.00      0.00      4357\n",
      "           1       0.67      1.00      0.80     17707\n",
      "\n",
      "   micro avg       0.67      0.67      0.67     26410\n",
      "   macro avg       0.22      0.33      0.27     26410\n",
      "weighted avg       0.45      0.67      0.54     26410\n",
      "\n"
     ]
    },
    {
     "name": "stderr",
     "output_type": "stream",
     "text": [
      "C:\\Apps\\lib\\site-packages\\sklearn\\metrics\\classification.py:1143: UndefinedMetricWarning: Precision and F-score are ill-defined and being set to 0.0 in labels with no predicted samples.\n",
      "  'precision', 'predicted', average, warn_for)\n",
      "C:\\Apps\\lib\\site-packages\\sklearn\\metrics\\classification.py:1143: UndefinedMetricWarning: Precision and F-score are ill-defined and being set to 0.0 in labels with no predicted samples.\n",
      "  'precision', 'predicted', average, warn_for)\n",
      "C:\\Apps\\lib\\site-packages\\sklearn\\metrics\\classification.py:1143: UndefinedMetricWarning: Precision and F-score are ill-defined and being set to 0.0 in labels with no predicted samples.\n",
      "  'precision', 'predicted', average, warn_for)\n"
     ]
    }
   ],
   "source": [
    "print(classification_report(Test_Y, predictions_rf))\n"
   ]
  },
  {
   "cell_type": "code",
   "execution_count": 53,
   "metadata": {},
   "outputs": [
    {
     "data": {
      "text/plain": [
       "array([[    0,     0,  4346],\n",
       "       [    0,     0,  4357],\n",
       "       [    0,     0, 17707]], dtype=int64)"
      ]
     },
     "execution_count": 53,
     "metadata": {},
     "output_type": "execute_result"
    }
   ],
   "source": [
    "confusion_matrix(Test_Y, predictions_rf)"
   ]
  },
  {
   "cell_type": "markdown",
   "metadata": {},
   "source": [
    "#### Random forest model on TFIDF vecotizer data"
   ]
  },
  {
   "cell_type": "code",
   "execution_count": 54,
   "metadata": {},
   "outputs": [
    {
     "name": "stdout",
     "output_type": "stream",
     "text": [
      "Random Forest Accuracy Score ->  67.04657326770163\n"
     ]
    }
   ],
   "source": [
    "rf1= RandomForestClassifier(n_estimators=100, max_depth=2,random_state=0)\n",
    "rf1.fit(Train_X_Tfidf,Train_Y)\n",
    "predictions_rf1 = rf1.predict(Test_X_Tfidf)\n",
    "\n",
    "print(\"Random Forest Accuracy Score -> \",accuracy_score(predictions_rf1, Test_Y)*100)\n"
   ]
  },
  {
   "cell_type": "code",
   "execution_count": 55,
   "metadata": {},
   "outputs": [
    {
     "name": "stdout",
     "output_type": "stream",
     "text": [
      "              precision    recall  f1-score   support\n",
      "\n",
      "          -1       0.00      0.00      0.00      4346\n",
      "           0       0.00      0.00      0.00      4357\n",
      "           1       0.67      1.00      0.80     17707\n",
      "\n",
      "   micro avg       0.67      0.67      0.67     26410\n",
      "   macro avg       0.22      0.33      0.27     26410\n",
      "weighted avg       0.45      0.67      0.54     26410\n",
      "\n"
     ]
    },
    {
     "name": "stderr",
     "output_type": "stream",
     "text": [
      "C:\\Apps\\lib\\site-packages\\sklearn\\metrics\\classification.py:1143: UndefinedMetricWarning: Precision and F-score are ill-defined and being set to 0.0 in labels with no predicted samples.\n",
      "  'precision', 'predicted', average, warn_for)\n",
      "C:\\Apps\\lib\\site-packages\\sklearn\\metrics\\classification.py:1143: UndefinedMetricWarning: Precision and F-score are ill-defined and being set to 0.0 in labels with no predicted samples.\n",
      "  'precision', 'predicted', average, warn_for)\n",
      "C:\\Apps\\lib\\site-packages\\sklearn\\metrics\\classification.py:1143: UndefinedMetricWarning: Precision and F-score are ill-defined and being set to 0.0 in labels with no predicted samples.\n",
      "  'precision', 'predicted', average, warn_for)\n"
     ]
    }
   ],
   "source": [
    "print(classification_report(Test_Y, predictions_rf1))"
   ]
  },
  {
   "cell_type": "code",
   "execution_count": 56,
   "metadata": {},
   "outputs": [
    {
     "data": {
      "text/plain": [
       "array([[    0,     0,  4346],\n",
       "       [    0,     0,  4357],\n",
       "       [    0,     0, 17707]], dtype=int64)"
      ]
     },
     "execution_count": 56,
     "metadata": {},
     "output_type": "execute_result"
    }
   ],
   "source": [
    "confusion_matrix(Test_Y, predictions_rf1)"
   ]
  },
  {
   "cell_type": "markdown",
   "metadata": {},
   "source": [
    "#### Logistic Regression model on Count vecotizer data"
   ]
  },
  {
   "cell_type": "code",
   "execution_count": 57,
   "metadata": {},
   "outputs": [
    {
     "name": "stderr",
     "output_type": "stream",
     "text": [
      "C:\\Apps\\lib\\site-packages\\sklearn\\linear_model\\logistic.py:433: FutureWarning: Default solver will be changed to 'lbfgs' in 0.22. Specify a solver to silence this warning.\n",
      "  FutureWarning)\n",
      "C:\\Apps\\lib\\site-packages\\sklearn\\linear_model\\logistic.py:460: FutureWarning: Default multi_class will be changed to 'auto' in 0.22. Specify the multi_class option to silence this warning.\n",
      "  \"this warning.\", FutureWarning)\n"
     ]
    },
    {
     "name": "stdout",
     "output_type": "stream",
     "text": [
      "Logistic Regression Accuracy Score ->  90.24990533888678\n"
     ]
    }
   ],
   "source": [
    "from sklearn.linear_model import LogisticRegression\n",
    "log=LogisticRegression(random_state=0)\n",
    "log.fit(count_train,Train_Y)\n",
    "predictions_log= log.predict(count_test)\n",
    "\n",
    "print(\"Logistic Regression Accuracy Score -> \",accuracy_score(predictions_log, Test_Y)*100)\n"
   ]
  },
  {
   "cell_type": "code",
   "execution_count": 58,
   "metadata": {},
   "outputs": [
    {
     "name": "stdout",
     "output_type": "stream",
     "text": [
      "              precision    recall  f1-score   support\n",
      "\n",
      "          -1       0.83      0.71      0.77      4346\n",
      "           0       0.82      0.94      0.88      4357\n",
      "           1       0.94      0.94      0.94     17707\n",
      "\n",
      "   micro avg       0.90      0.90      0.90     26410\n",
      "   macro avg       0.87      0.86      0.86     26410\n",
      "weighted avg       0.90      0.90      0.90     26410\n",
      "\n"
     ]
    }
   ],
   "source": [
    "print(classification_report(Test_Y, predictions_log))"
   ]
  },
  {
   "cell_type": "code",
   "execution_count": 59,
   "metadata": {},
   "outputs": [
    {
     "data": {
      "text/plain": [
       "array([[ 3080,   375,   891],\n",
       "       [   68,  4091,   198],\n",
       "       [  542,   501, 16664]], dtype=int64)"
      ]
     },
     "execution_count": 59,
     "metadata": {},
     "output_type": "execute_result"
    }
   ],
   "source": [
    "confusion_matrix(Test_Y, predictions_log)"
   ]
  },
  {
   "cell_type": "markdown",
   "metadata": {},
   "source": [
    "#### Logistic Regression model on TFIDF vecotizer data"
   ]
  },
  {
   "cell_type": "code",
   "execution_count": 60,
   "metadata": {},
   "outputs": [
    {
     "name": "stdout",
     "output_type": "stream",
     "text": [
      "Logistic Regression Accuracy Score ->  86.60355925785687\n"
     ]
    }
   ],
   "source": [
    "log1=LogisticRegression(random_state=0)\n",
    "log1.fit(Train_X_Tfidf,Train_Y)\n",
    "predictions_log1= log1.predict(Test_X_Tfidf)\n",
    "\n",
    "print(\"Logistic Regression Accuracy Score -> \",accuracy_score(predictions_log1, Test_Y)*100)\n"
   ]
  },
  {
   "cell_type": "code",
   "execution_count": 61,
   "metadata": {},
   "outputs": [
    {
     "name": "stdout",
     "output_type": "stream",
     "text": [
      "              precision    recall  f1-score   support\n",
      "\n",
      "          -1       0.89      0.51      0.64      4346\n",
      "           0       0.80      0.85      0.82      4357\n",
      "           1       0.88      0.96      0.92     17707\n",
      "\n",
      "   micro avg       0.87      0.87      0.87     26410\n",
      "   macro avg       0.85      0.77      0.79     26410\n",
      "weighted avg       0.87      0.87      0.86     26410\n",
      "\n"
     ]
    }
   ],
   "source": [
    "print(classification_report(Test_Y, predictions_log1))"
   ]
  },
  {
   "cell_type": "code",
   "execution_count": 62,
   "metadata": {},
   "outputs": [
    {
     "data": {
      "text/plain": [
       "array([[ 2199,   458,  1689],\n",
       "       [   43,  3695,   619],\n",
       "       [  237,   492, 16978]], dtype=int64)"
      ]
     },
     "execution_count": 62,
     "metadata": {},
     "output_type": "execute_result"
    }
   ],
   "source": [
    "confusion_matrix(Test_Y, predictions_log1)"
   ]
  },
  {
   "cell_type": "code",
   "execution_count": null,
   "metadata": {},
   "outputs": [],
   "source": []
  },
  {
   "cell_type": "markdown",
   "metadata": {},
   "source": [
    "#### Naive Bayes model on count vecotizer data"
   ]
  },
  {
   "cell_type": "code",
   "execution_count": 63,
   "metadata": {},
   "outputs": [
    {
     "name": "stdout",
     "output_type": "stream",
     "text": [
      "Number of rows in the total set: 88032\n",
      "Number of rows in the training set: 66024\n",
      "Number of rows in the test set: 22008\n"
     ]
    }
   ],
   "source": [
    "# split into training and testing sets\n",
    "# USE from sklearn.model_selection import train_test_split to avoid seeing deprecation warning.\n",
    "from sklearn.model_selection import train_test_split\n",
    "\n",
    "X_train, X_test, y_train, y_test = train_test_split(df['Message'], \n",
    "                                                    df['Sentiment_label'], \n",
    "                                                    random_state=1)\n",
    "\n",
    "print('Number of rows in the total set: {}'.format(df.shape[0]))\n",
    "print('Number of rows in the training set: {}'.format(X_train.shape[0]))\n",
    "print('Number of rows in the test set: {}'.format(X_test.shape[0]))"
   ]
  },
  {
   "cell_type": "code",
   "execution_count": 64,
   "metadata": {},
   "outputs": [
    {
     "name": "stdout",
     "output_type": "stream",
     "text": [
      "CountVectorizer(analyzer='word', binary=False, decode_error='strict',\n",
      "        dtype=<class 'numpy.int64'>, encoding='utf-8', input='content',\n",
      "        lowercase=True, max_df=1.0, max_features=None, min_df=1,\n",
      "        ngram_range=(1, 1), preprocessor=None, stop_words='english',\n",
      "        strip_accents=None, token_pattern='(?u)\\\\b\\\\w\\\\w+\\\\b',\n",
      "        tokenizer=None, vocabulary=None)\n"
     ]
    }
   ],
   "source": [
    "from sklearn.feature_extraction.text import CountVectorizer\n",
    "# Instantiate the CountVectorizer method\n",
    "count_vectorizer = CountVectorizer(stop_words='english')\n",
    "print(count_vectorizer)\n",
    "\n",
    "# Fit the training data and then return the matrix\n",
    "training_data = count_vectorizer.fit_transform(X_train)\n",
    "\n",
    "# Transform testing data and return the matrix. Note we are not fitting the testing data into the CountVectorizer()\n",
    "testing_data = count_vectorizer.transform(X_test)"
   ]
  },
  {
   "cell_type": "code",
   "execution_count": 65,
   "metadata": {},
   "outputs": [
    {
     "data": {
      "text/plain": [
       "MultinomialNB(alpha=1.0, class_prior=None, fit_prior=True)"
      ]
     },
     "execution_count": 65,
     "metadata": {},
     "output_type": "execute_result"
    }
   ],
   "source": [
    "from sklearn.naive_bayes import MultinomialNB\n",
    "naive_bayes = MultinomialNB()\n",
    "naive_bayes.fit(training_data, y_train) "
   ]
  },
  {
   "cell_type": "code",
   "execution_count": null,
   "metadata": {},
   "outputs": [],
   "source": [
    "'''\n",
    "Instructions:\n",
    "Now that our algorithm has been trained using the training data set we can now make some predictions on the test data\n",
    "stored in 'testing_data' using predict(). Save your predictions into the 'predictions' variable.\n",
    "'''"
   ]
  },
  {
   "cell_type": "code",
   "execution_count": 66,
   "metadata": {},
   "outputs": [],
   "source": [
    "'''\n",
    "Solution\n",
    "'''\n",
    "predictions = naive_bayes.predict(testing_data)"
   ]
  },
  {
   "cell_type": "markdown",
   "metadata": {},
   "source": [
    "Now that predictions have been made on our test set, we need to check the accuracy of our predictions."
   ]
  },
  {
   "cell_type": "markdown",
   "metadata": {},
   "source": [
    "### Step 6: Evaluating our model ###\n",
    "\n",
    "Now that we have made predictions on our test set, our next goal is to evaluate how well our model is doing. There are various mechanisms for doing so, but first let's do quick recap of them.\n",
    "\n",
    "** Accuracy ** measures how often the classifier makes the correct prediction. It’s the ratio of the number of correct predictions to the total number of predictions (the number of test data points).\n",
    "\n",
    "** Precision ** tells us what proportion of messages we classified as spam, actually were spam.\n",
    "It is a ratio of true positives(words classified as spam, and which are actually spam) to all positives(all words classified as spam, irrespective of whether that was the correct classification), in other words it is the ratio of\n",
    "\n",
    "`[True Positives/(True Positives + False Positives)]`\n",
    "\n",
    "** Recall(sensitivity)** tells us what proportion of messages that actually were spam were classified by us as spam.\n",
    "It is a ratio of true positives(words classified as spam, and which are actually spam) to all the words that were actually spam, in other words it is the ratio of\n",
    "\n",
    "`[True Positives/(True Positives + False Negatives)]`\n",
    "\n",
    "For classification problems that are skewed in their classification distributions like in our case, for example if we had a 100 text messages and only 2 were spam and the rest 98 weren't, accuracy by itself is not a very good metric. We could classify 90 messages as not spam(including the 2 that were spam but we classify them as not spam, hence they would be false negatives) and 10 as spam(all 10 false positives) and still get a reasonably good accuracy score. For such cases, precision and recall come in very handy. These two metrics can be combined to get the F1 score, which is weighted average of the precision and recall scores. This score can range from 0 to 1, with 1 being the best possible F1 score."
   ]
  },
  {
   "cell_type": "markdown",
   "metadata": {},
   "source": [
    "We will be using all 4 metrics to make sure our model does well. For all 4 metrics whose values can range from 0 to 1, having a score as close to 1 as possible is a good indicator of how well our model is doing."
   ]
  },
  {
   "cell_type": "code",
   "execution_count": null,
   "metadata": {},
   "outputs": [],
   "source": [
    "'''\n",
    "Instructions:\n",
    "Compute the accuracy, precision, recall and F1 scores of your model using your test data 'y_test' and the predictions\n",
    "you made earlier stored in the 'predictions' variable.\n",
    "'''"
   ]
  },
  {
   "cell_type": "code",
   "execution_count": 68,
   "metadata": {
    "scrolled": true
   },
   "outputs": [
    {
     "name": "stdout",
     "output_type": "stream",
     "text": [
      "Accuracy score:  0.7141948382406398\n"
     ]
    }
   ],
   "source": [
    "'''\n",
    "Solution\n",
    "'''\n",
    "from sklearn.metrics import accuracy_score\n",
    "print('Accuracy score: ', format(accuracy_score(predictions, y_test)))\n"
   ]
  },
  {
   "cell_type": "code",
   "execution_count": 69,
   "metadata": {},
   "outputs": [
    {
     "name": "stdout",
     "output_type": "stream",
     "text": [
      "              precision    recall  f1-score   support\n",
      "\n",
      "          -1       0.41      0.53      0.46      2688\n",
      "           0       0.43      0.53      0.48      2985\n",
      "           1       0.86      0.78      0.82     16335\n",
      "\n",
      "   micro avg       0.71      0.71      0.71     22008\n",
      "   macro avg       0.56      0.61      0.58     22008\n",
      "weighted avg       0.75      0.71      0.73     22008\n",
      "\n"
     ]
    }
   ],
   "source": [
    "print(classification_report(predictions, y_test))"
   ]
  },
  {
   "cell_type": "code",
   "execution_count": 70,
   "metadata": {},
   "outputs": [
    {
     "data": {
      "text/plain": [
       "array([[ 1429,   302,   957],\n",
       "       [  266,  1590,  1129],\n",
       "       [ 1827,  1809, 12699]], dtype=int64)"
      ]
     },
     "execution_count": 70,
     "metadata": {},
     "output_type": "execute_result"
    }
   ],
   "source": [
    "confusion_matrix(predictions, y_test)"
   ]
  },
  {
   "cell_type": "code",
   "execution_count": null,
   "metadata": {},
   "outputs": [],
   "source": []
  },
  {
   "cell_type": "code",
   "execution_count": 72,
   "metadata": {},
   "outputs": [
    {
     "data": {
      "text/plain": [
       "RandomForestClassifier(bootstrap=True, class_weight=None, criterion='gini',\n",
       "            max_depth=2, max_features='auto', max_leaf_nodes=None,\n",
       "            min_impurity_decrease=0.0, min_impurity_split=None,\n",
       "            min_samples_leaf=1, min_samples_split=2,\n",
       "            min_weight_fraction_leaf=0.0, n_estimators=100, n_jobs=None,\n",
       "            oob_score=False, random_state=0, verbose=0, warm_start=False)"
      ]
     },
     "execution_count": 72,
     "metadata": {},
     "output_type": "execute_result"
    }
   ],
   "source": [
    "# Use random forest classifier for feature selection\n",
    "from sklearn.ensemble import RandomForestClassifier\n",
    "rfc = RandomForestClassifier(n_estimators=100, max_depth=2,random_state=0)\n",
    "rfc.fit(training_data, y_train)"
   ]
  },
  {
   "cell_type": "code",
   "execution_count": 75,
   "metadata": {},
   "outputs": [
    {
     "name": "stdout",
     "output_type": "stream",
     "text": [
      "Random Forest Accuracy Score ->  67.18011632133769\n"
     ]
    }
   ],
   "source": [
    "predictionsrf = rfc.predict(testing_data)\n",
    "\n",
    "print(\"Random Forest Accuracy Score -> \",accuracy_score(predictionsrf, y_test)*100)\n"
   ]
  },
  {
   "cell_type": "code",
   "execution_count": 76,
   "metadata": {},
   "outputs": [
    {
     "data": {
      "text/plain": [
       "array([[    0,     0,     0],\n",
       "       [    0,     0,     0],\n",
       "       [ 3522,  3701, 14785]], dtype=int64)"
      ]
     },
     "execution_count": 76,
     "metadata": {},
     "output_type": "execute_result"
    }
   ],
   "source": [
    "confusion_matrix(predictionsrf, y_test)"
   ]
  },
  {
   "cell_type": "code",
   "execution_count": null,
   "metadata": {},
   "outputs": [],
   "source": []
  },
  {
   "cell_type": "code",
   "execution_count": 88,
   "metadata": {},
   "outputs": [
    {
     "name": "stdout",
     "output_type": "stream",
     "text": [
      "Collecting xgboost\n",
      "  Downloading https://files.pythonhosted.org/packages/5e/49/b95c037b717b4ceadc76b6e164603471225c27052d1611d5a2e832757945/xgboost-0.90-py2.py3-none-win_amd64.whl (18.3MB)\n",
      "Requirement already satisfied: numpy in c:\\apps\\lib\\site-packages (from xgboost) (1.16.2)\n",
      "Requirement already satisfied: scipy in c:\\apps\\lib\\site-packages (from xgboost) (1.2.1)\n",
      "Installing collected packages: xgboost\n",
      "Successfully installed xgboost-0.90\n"
     ]
    }
   ],
   "source": [
    "!pip install xgboost"
   ]
  },
  {
   "cell_type": "code",
   "execution_count": 117,
   "metadata": {},
   "outputs": [],
   "source": [
    "# Import the Classification modules\n",
    "from sklearn.ensemble import RandomForestClassifier\n",
    "from sklearn.ensemble import GradientBoostingClassifier\n",
    "from xgboost.sklearn import XGBClassifier\n",
    "from sklearn.linear_model import LogisticRegression\n"
   ]
  },
  {
   "cell_type": "code",
   "execution_count": 119,
   "metadata": {},
   "outputs": [],
   "source": [
    "# Name the models to be used:\n",
    "algorithms = [RandomForestClassifier(n_estimators=100), ExtraTreesClassifier(n_estimators=100), \n",
    "              GradientBoostingClassifier(n_estimators=100), XGBClassifier(n_estimators=100), \n",
    "               LogisticRegression(solver='lbfgs'),]\n",
    "names = ['RFC', 'GBC', 'XGB', 'LoR']"
   ]
  },
  {
   "cell_type": "code",
   "execution_count": 120,
   "metadata": {},
   "outputs": [],
   "source": [
    "# Use K-fold cross validation:\n",
    "from sklearn.model_selection import KFold\n",
    "from sklearn.model_selection import cross_val_score\n",
    "kfold = KFold(n_splits=5)"
   ]
  },
  {
   "cell_type": "code",
   "execution_count": null,
   "metadata": {},
   "outputs": [],
   "source": [
    "for model, name in zip(algorithms, names):\n",
    "    cv_results = cross_val_score(model, Train_X_Tfidf,Train_Y, scoring='accuracy', cv=kfold)\n",
    "    print(name, \"Mean:\", cv_results.mean(), \"; Std Dev:\", cv_results.std())\n",
    "    plt.bar(name, cv_results.mean())"
   ]
  },
  {
   "cell_type": "markdown",
   "metadata": {},
   "source": [
    "### Step 7: Conclusion ###\n",
    "\n",
    "One of the major advantages that logistic regression has over other classification algorithms is its ability to handle an extremely large number of features. In our case, each word is treated as a feature and there are thousands of different words. Also, it performs well even with the presence of irrelevant features and is relatively unaffected by them. The other major advantage it has is its relative simplicity. Naive Bayes' works well right out of the box and tuning it's parameters is rarely ever necessary, except usually in cases where the distribution of the data is known. \n",
    "It rarely ever overfits the data. Another important advantage is that its model training and prediction times are very fast for the amount of data it can handle. All in all, logistic regression' really is a gem of an algorithm!"
   ]
  }
 ],
 "metadata": {
  "kernelspec": {
   "display_name": "Python 3",
   "language": "python",
   "name": "python3"
  },
  "language_info": {
   "codemirror_mode": {
    "name": "ipython",
    "version": 3
   },
   "file_extension": ".py",
   "mimetype": "text/x-python",
   "name": "python",
   "nbconvert_exporter": "python",
   "pygments_lexer": "ipython3",
   "version": "3.7.3"
  },
  "toc": {
   "base_numbering": 1,
   "nav_menu": {},
   "number_sections": true,
   "sideBar": true,
   "skip_h1_title": false,
   "title_cell": "Table of Contents",
   "title_sidebar": "Contents",
   "toc_cell": false,
   "toc_position": {},
   "toc_section_display": true,
   "toc_window_display": false
  }
 },
 "nbformat": 4,
 "nbformat_minor": 2
}
